{
 "cells": [
  {
   "cell_type": "code",
   "execution_count": 1,
   "metadata": {},
   "outputs": [
    {
     "name": "stderr",
     "output_type": "stream",
     "text": [
      "/home/hari/cODE/functions.py:179: SyntaxWarning: \"is\" with a literal. Did you mean \"==\"?\n",
      "  if input(\"Create tokenizers? Enter y if this is new training data. y/n: \") is 'y': create_tokenizers(df_test)\n",
      "/home/hari/cODE/functions.py:400: SyntaxWarning: \"is\" with a literal. Did you mean \"==\"?\n",
      "  if pad is 'center':\n",
      "/home/hari/cODE/functions.py:414: SyntaxWarning: \"is\" with a literal. Did you mean \"==\"?\n",
      "  if pad is 'center':\n"
     ]
    }
   ],
   "source": [
    "import pandas as pd\n",
    "import pickle5 as pickle\n",
    "import os\n",
    "import sys\n",
    "import numpy as np\n",
    "import pandas as pd\n",
    "import matplotlib.pyplot as plt\n",
    "from keras.preprocessing.text import Tokenizer\n",
    "from keras.preprocessing.sequence import pad_sequences\n",
    "from keras.layers import Dense, Input, GlobalMaxPooling1D, Flatten\n",
    "from keras.layers import Conv1D, MaxPooling1D, Embedding,  Concatenate, Lambda\n",
    "from keras.models import Model\n",
    "from sklearn.metrics import roc_auc_score,roc_curve, auc\n",
    "from numpy import random\n",
    "from keras.layers import LSTM, Bidirectional, GlobalMaxPool1D, Dropout\n",
    "from tensorflow.keras.optimizers import Adam\n",
    "from keras.utils.vis_utils import plot_model\n",
    "import seaborn as sns\n",
    "\n",
    "\n",
    "import functions as f"
   ]
  },
  {
   "cell_type": "code",
   "execution_count": 2,
   "metadata": {},
   "outputs": [
    {
     "name": "stdout",
     "output_type": "stream",
     "text": [
      "The data used will be:\n"
     ]
    },
    {
     "data": {
      "text/html": [
       "<div>\n",
       "<style scoped>\n",
       "    .dataframe tbody tr th:only-of-type {\n",
       "        vertical-align: middle;\n",
       "    }\n",
       "\n",
       "    .dataframe tbody tr th {\n",
       "        vertical-align: top;\n",
       "    }\n",
       "\n",
       "    .dataframe thead th {\n",
       "        text-align: right;\n",
       "    }\n",
       "</style>\n",
       "<table border=\"1\" class=\"dataframe\">\n",
       "  <thead>\n",
       "    <tr style=\"text-align: right;\">\n",
       "      <th></th>\n",
       "      <th>Human</th>\n",
       "      <th>Pathogen</th>\n",
       "    </tr>\n",
       "  </thead>\n",
       "  <tbody>\n",
       "    <tr>\n",
       "      <th>0</th>\n",
       "      <td>[M, S, L, K, L, Q, A, S, N, V, T, N, K, N, D, ...</td>\n",
       "      <td>[M, A, S, Q, G, T, K, R, S, Y, E, Q, M, E, T, ...</td>\n",
       "    </tr>\n",
       "    <tr>\n",
       "      <th>1</th>\n",
       "      <td>[M, K, D, V, P, G, F, L, Q, Q, S, Q, N, S, G, ...</td>\n",
       "      <td>[M, S, L, L, T, E, V, E, T, P, I, R, N, E, W, ...</td>\n",
       "    </tr>\n",
       "    <tr>\n",
       "      <th>2</th>\n",
       "      <td>[M, A, Q, S, R, D, G, G, N, P, F, A, E, P, S, ...</td>\n",
       "      <td>[M, D, S, N, T, V, S, S, F, Q, V, D, C, F, L, ...</td>\n",
       "    </tr>\n",
       "    <tr>\n",
       "      <th>3</th>\n",
       "      <td>[M, G, V, D, I, R, H, N, K, D, R, K, V, R, R, ...</td>\n",
       "      <td>[M, K, A, K, L, L, V, L, L, Y, A, F, V, A, T, ...</td>\n",
       "    </tr>\n",
       "    <tr>\n",
       "      <th>4</th>\n",
       "      <td>[M, N, V, A, A, K, Y, R, M, A, S, L, Y, V, G, ...</td>\n",
       "      <td>[M, A, S, Q, G, T, K, R, S, Y, E, Q, M, E, T, ...</td>\n",
       "    </tr>\n",
       "    <tr>\n",
       "      <th>...</th>\n",
       "      <td>...</td>\n",
       "      <td>...</td>\n",
       "    </tr>\n",
       "    <tr>\n",
       "      <th>6995</th>\n",
       "      <td>[M, T, H, E, E, H, H, A, A, K, T, L, G, I, G, ...</td>\n",
       "      <td>[M, S, L, L, T, E, V, E, T, P, I, R, N, E, W, ...</td>\n",
       "    </tr>\n",
       "    <tr>\n",
       "      <th>6996</th>\n",
       "      <td>[M, S, A, E, G, Y, Q, Y, R, A, L, Y, D, Y, K, ...</td>\n",
       "      <td>[M, D, P, N, T, V, S, S, F, Q, V, D, C, F, L, ...</td>\n",
       "    </tr>\n",
       "    <tr>\n",
       "      <th>6997</th>\n",
       "      <td>[M, W, P, T, R, R, L, V, T, I, K, R, S, G, V, ...</td>\n",
       "      <td>[M, E, R, I, K, E, L, R, N, L, M, S, Q, S, R, ...</td>\n",
       "    </tr>\n",
       "    <tr>\n",
       "      <th>6998</th>\n",
       "      <td>[M, L, R, V, A, W, R, T, L, S, L, I, R, T, R, ...</td>\n",
       "      <td>[M, N, P, N, Q, K, I, I, T, I, G, S, I, C, M, ...</td>\n",
       "    </tr>\n",
       "    <tr>\n",
       "      <th>6999</th>\n",
       "      <td>[M, T, E, W, E, T, A, A, P, A, V, A, E, T, P, ...</td>\n",
       "      <td>[M, D, V, N, P, T, L, L, F, L, K, V, P, A, Q, ...</td>\n",
       "    </tr>\n",
       "  </tbody>\n",
       "</table>\n",
       "<p>7000 rows × 2 columns</p>\n",
       "</div>"
      ],
      "text/plain": [
       "                                                  Human  \\\n",
       "0     [M, S, L, K, L, Q, A, S, N, V, T, N, K, N, D, ...   \n",
       "1     [M, K, D, V, P, G, F, L, Q, Q, S, Q, N, S, G, ...   \n",
       "2     [M, A, Q, S, R, D, G, G, N, P, F, A, E, P, S, ...   \n",
       "3     [M, G, V, D, I, R, H, N, K, D, R, K, V, R, R, ...   \n",
       "4     [M, N, V, A, A, K, Y, R, M, A, S, L, Y, V, G, ...   \n",
       "...                                                 ...   \n",
       "6995  [M, T, H, E, E, H, H, A, A, K, T, L, G, I, G, ...   \n",
       "6996  [M, S, A, E, G, Y, Q, Y, R, A, L, Y, D, Y, K, ...   \n",
       "6997  [M, W, P, T, R, R, L, V, T, I, K, R, S, G, V, ...   \n",
       "6998  [M, L, R, V, A, W, R, T, L, S, L, I, R, T, R, ...   \n",
       "6999  [M, T, E, W, E, T, A, A, P, A, V, A, E, T, P, ...   \n",
       "\n",
       "                                               Pathogen  \n",
       "0     [M, A, S, Q, G, T, K, R, S, Y, E, Q, M, E, T, ...  \n",
       "1     [M, S, L, L, T, E, V, E, T, P, I, R, N, E, W, ...  \n",
       "2     [M, D, S, N, T, V, S, S, F, Q, V, D, C, F, L, ...  \n",
       "3     [M, K, A, K, L, L, V, L, L, Y, A, F, V, A, T, ...  \n",
       "4     [M, A, S, Q, G, T, K, R, S, Y, E, Q, M, E, T, ...  \n",
       "...                                                 ...  \n",
       "6995  [M, S, L, L, T, E, V, E, T, P, I, R, N, E, W, ...  \n",
       "6996  [M, D, P, N, T, V, S, S, F, Q, V, D, C, F, L, ...  \n",
       "6997  [M, E, R, I, K, E, L, R, N, L, M, S, Q, S, R, ...  \n",
       "6998  [M, N, P, N, Q, K, I, I, T, I, G, S, I, C, M, ...  \n",
       "6999  [M, D, V, N, P, T, L, L, F, L, K, V, P, A, Q, ...  \n",
       "\n",
       "[7000 rows x 2 columns]"
      ]
     },
     "execution_count": 2,
     "metadata": {},
     "output_type": "execute_result"
    }
   ],
   "source": [
    "def load_data(D,randomize=False):\n",
    "    try:\n",
    "        with open(\"df_train_\"+str(D)+\"D.pkl\", \"rb\") as fh:\n",
    "          df_train = pickle.load(fh)\n",
    "    except:\n",
    "        df_train = pd.read_pickle(\"hyppi-train-data.pkl\")\n",
    "    try:\n",
    "        with open(\"df_test_\"+str(D)+\"D.pkl\", \"rb\") as fh:\n",
    "          df_test = pickle.load(fh)\n",
    "    except:\n",
    "        df_test = pd.read_pickle(\"hyppi-test-data.pkl\")\n",
    "    if randomize:\n",
    "        return f.shuff_together(df_train,df_test)\n",
    "    else:\n",
    "        return df_train,df_test\n",
    "\n",
    "df_train,df_test = load_data(3)\n",
    "print('The data used will be:')\n",
    "df_train[['Human','Pathogen']]"
   ]
  },
  {
   "cell_type": "code",
   "execution_count": 3,
   "metadata": {},
   "outputs": [
    {
     "name": "stdout",
     "output_type": "stream",
     "text": [
      "Median length of Human sequence is 450\n"
     ]
    },
    {
     "data": {
      "image/png": "[encoded data removed]",
      "text/plain": [
       "<Figure size 360x360 with 1 Axes>"
      ]
     },
     "metadata": {
      "needs_background": "light"
     },
     "output_type": "display_data"
    }
   ],
   "source": [
    "lengths = sorted(len(s) for s in df_train['Human'])\n",
    "print(\"Median length of Human sequence is\",lengths[len(lengths)//2])\n",
    "_  = sns.displot(lengths)\n",
    "_=plt.title(\"Most Human sequences seem to be less than 2000 in length\")\n"
   ]
  },
  {
   "cell_type": "code",
   "execution_count": 4,
   "metadata": {},
   "outputs": [
    {
     "name": "stdout",
     "output_type": "stream",
     "text": [
      "Median length of Influenza sequence is 454\n"
     ]
    },
    {
     "data": {
      "image/png": "[encoded data removed]",
      "text/plain": [
       "<Figure size 360x360 with 1 Axes>"
      ]
     },
     "metadata": {
      "needs_background": "light"
     },
     "output_type": "display_data"
    }
   ],
   "source": [
    "lengths = sorted(len(s) for s in df_train['Pathogen'])\n",
    "print(\"Median length of Influenza sequence is\",lengths[len(lengths)//2])\n",
    "_  = sns.displot(lengths)\n",
    "_=plt.title(\"Most Influenza sequences seem to be less than 1000 in length\")"
   ]
  },
  {
   "cell_type": "code",
   "execution_count": 5,
   "metadata": {},
   "outputs": [
    {
     "name": "stdout",
     "output_type": "stream",
     "text": [
      "['Human', 'Pathogen', 'Joined', 'label']\n",
      "max sequences1_train length: 7570\n",
      "min sequences1_train length: 36\n",
      "median sequences1_train length: 450\n"
     ]
    },
    {
     "data": {
      "image/png": "[encoded data removed]",
      "text/plain": [
       "<Figure size 432x288 with 1 Axes>"
      ]
     },
     "metadata": {
      "needs_background": "light"
     },
     "output_type": "display_data"
    },
    {
     "name": "stdout",
     "output_type": "stream",
     "text": [
      "max word index sequences1_train: 22\n",
      "max sequences2_train length: 759\n",
      "min sequences2_train length: 87\n",
      "median sequences2_train length: 454\n"
     ]
    },
    {
     "data": {
      "image/png": "[encoded data removed]",
      "text/plain": [
       "<Figure size 432x288 with 1 Axes>"
      ]
     },
     "metadata": {
      "needs_background": "light"
     },
     "output_type": "display_data"
    },
    {
     "name": "stdout",
     "output_type": "stream",
     "text": [
      "max word index sequences2_train: 20\n",
      "Found 22 unique tokens in tokenizer1.\n",
      "Found 20 unique tokens in tokenizer2.\n",
      "pre padding\n",
      "Shape of data1 tensor: (7000, 1000)\n",
      "Shape of data2 tensor: (7000, 1000)\n",
      "max test_sequences1 length: 5890\n",
      "min test_sequences1 length: 38\n",
      "median test_sequences1 length: 443\n"
     ]
    },
    {
     "data": {
      "image/png": "[encoded data removed]",
      "text/plain": [
       "<Figure size 432x288 with 1 Axes>"
      ]
     },
     "metadata": {
      "needs_background": "light"
     },
     "output_type": "display_data"
    },
    {
     "name": "stdout",
     "output_type": "stream",
     "text": [
      "max test_sequences2 length: 759\n",
      "min test_sequences2 length: 87\n",
      "median test_sequences2 length: 498\n"
     ]
    },
    {
     "data": {
      "image/png": "[encoded data removed]",
      "text/plain": [
       "<Figure size 432x288 with 1 Axes>"
      ]
     },
     "metadata": {
      "needs_background": "light"
     },
     "output_type": "display_data"
    },
    {
     "name": "stdout",
     "output_type": "stream",
     "text": [
      "pre padding for test seq.\n",
      "Shape of test_data1 tensor: (1899, 1000)\n",
      "Shape of test_data2 tensor: (1899, 1000)\n",
      "num_words is 22\n"
     ]
    }
   ],
   "source": [
    "data1_1D_doubleip_pre,data2_1D_doubleip_pre,data1_test_1D_doubleip_pre,data2_test_1D_doubleip_pre,num_words_1D,MAX_SEQUENCE_LENGTH_1D,MAX_VOCAB_SIZE_1D = f.get_seq_data_doubleip(100,1000,df_train,df_test,pad = 'pre',show=True)"
   ]
  },
  {
   "cell_type": "code",
   "execution_count": 6,
   "metadata": {},
   "outputs": [
    {
     "name": "stdout",
     "output_type": "stream",
     "text": [
      "['Human', 'Pathogen', 'Joined', 'label']\n",
      "max sequences1_train length: 7570\n",
      "min sequences1_train length: 36\n",
      "median sequences1_train length: 450\n",
      "max word index sequences1_train: 22\n",
      "max sequences2_train length: 759\n",
      "min sequences2_train length: 87\n",
      "median sequences2_train length: 454\n",
      "max word index sequences2_train: 20\n",
      "Found 22 unique tokens in tokenizer1.\n",
      "Found 20 unique tokens in tokenizer2.\n",
      "Center padding\n",
      "Shape of data1 tensor: (7000, 1000)\n",
      "Shape of data2 tensor: (7000, 1000)\n",
      "max test_sequences1 length: 5890\n",
      "min test_sequences1 length: 38\n",
      "median test_sequences1 length: 443\n",
      "max test_sequences2 length: 759\n",
      "min test_sequences2 length: 87\n",
      "median test_sequences2 length: 498\n",
      "Center padding for test seq.\n",
      "Shape of test_data1 tensor: (1899, 1000)\n",
      "Shape of test_data2 tensor: (1899, 1000)\n",
      "num_words is 22\n"
     ]
    }
   ],
   "source": [
    "data1_1D_doubleip_center,data2_1D_doubleip_center,data1_test_1D_doubleip_center,data2_test_1D_doubleip_center,num_words_1D,MAX_SEQUENCE_LENGTH_1D,MAX_VOCAB_SIZE_1D = f.get_seq_data_doubleip(100,1000,df_train,df_test)"
   ]
  },
  {
   "cell_type": "code",
   "execution_count": 7,
   "metadata": {},
   "outputs": [
    {
     "name": "stdout",
     "output_type": "stream",
     "text": [
      "['Human', 'Pathogen', 'Joined', 'label']\n",
      "max sequences1_train length: 7570\n",
      "min sequences1_train length: 36\n",
      "median sequences1_train length: 450\n",
      "max word index sequences1_train: 22\n",
      "max sequences2_train length: 759\n",
      "min sequences2_train length: 87\n",
      "median sequences2_train length: 454\n",
      "max word index sequences2_train: 20\n",
      "Found 22 unique tokens in tokenizer1.\n",
      "Found 20 unique tokens in tokenizer2.\n",
      "post padding\n",
      "Shape of data1 tensor: (7000, 1000)\n",
      "Shape of data2 tensor: (7000, 1000)\n",
      "max test_sequences1 length: 5890\n",
      "min test_sequences1 length: 38\n",
      "median test_sequences1 length: 443\n",
      "max test_sequences2 length: 759\n",
      "min test_sequences2 length: 87\n",
      "median test_sequences2 length: 498\n",
      "post padding for test seq.\n",
      "Shape of test_data1 tensor: (1899, 1000)\n",
      "Shape of test_data2 tensor: (1899, 1000)\n",
      "num_words is 22\n"
     ]
    }
   ],
   "source": [
    "data1_1D_doubleip_post,data2_1D_doubleip_post,data1_test_1D_doubleip_post,data2_test_1D_doubleip_post,num_words_1D,MAX_SEQUENCE_LENGTH_1D,MAX_VOCAB_SIZE_1D = f.get_seq_data_doubleip(100,1000,df_train,df_test,pad = 'post')"
   ]
  },
  {
   "cell_type": "code",
   "execution_count": 8,
   "metadata": {},
   "outputs": [],
   "source": [
    "num_words_1D += 1"
   ]
  },
  {
   "cell_type": "code",
   "execution_count": 9,
   "metadata": {},
   "outputs": [
    {
     "name": "stdout",
     "output_type": "stream",
     "text": [
      "[[-0.73521325  0.83602422  0.30854958  0.16064603  0.23720164]\n",
      " [ 0.9466064  -0.87076935  0.95991307 -0.1066104  -0.8879549 ]\n",
      " [ 0.97032339  0.77630191  0.46632186 -0.12281086 -0.3083948 ]\n",
      " [-0.07799703 -0.62636491 -0.27354668  0.9187622  -0.21960524]\n",
      " [-0.2199062   0.72928996 -0.32522921  0.62646901 -0.46750396]\n",
      " [ 0.37252435 -0.86428626  0.39414835 -0.0799585  -0.33671905]\n",
      " [-0.97900676  0.76310956  0.4866317   0.18800306  0.54728011]\n",
      " [-0.03525234 -0.28343197 -0.21499333  0.65020765  0.42842046]\n",
      " [-0.95910355  0.96741068  0.07469243  0.37180563  0.5676135 ]\n",
      " [-0.59719729 -0.22711848  0.73885939 -0.86513314  0.77347515]\n",
      " [ 0.67835553 -0.47501557 -0.55151614  0.90121561 -0.80753487]\n",
      " [-0.44545581  0.30488312  0.75146728 -0.45874905 -0.81487194]\n",
      " [ 0.44246065  0.71712586 -0.73564571 -0.29535145  0.69166992]\n",
      " [-0.84902888 -0.97591838  0.56221737 -0.93815882 -0.28703859]\n",
      " [-0.99026508 -0.94595669 -0.75213607  0.11899333  0.69315946]\n",
      " [ 0.60758213  0.99475337 -0.78077213  0.92436641  0.6243224 ]\n",
      " [-0.69451688 -0.28615369 -0.5343321  -0.21641185  0.10732698]\n",
      " [-0.47981658 -0.96228445  0.77349088 -0.3545523  -0.97017009]\n",
      " [-0.40300615  0.16494078  0.14816971 -0.26938472 -0.17135505]\n",
      " [ 0.51206077  0.96617904  0.87663556  0.0090612  -0.63434834]\n",
      " [-0.73151021  0.20387873  0.58225673 -0.06910864 -0.40454038]\n",
      " [ 0.95847907  0.04283454 -0.3405324  -0.16592143  0.20125594]\n",
      " [ 0.32710553  0.47573263  0.97511926 -0.50291427  0.98844396]]\n",
      "[[-0.9198691  -0.12574392 -0.6792217  -0.27992112 -0.40045389]\n",
      " [-0.54334401 -0.14100357  0.39680391 -0.0928091  -0.9210294 ]\n",
      " [ 0.90396273  0.66534974  0.52206326  0.01839444  0.06637008]\n",
      " [-0.58502898 -0.93455712 -0.60519374  0.27520367  0.24679017]\n",
      " [ 0.80765167 -0.90466831 -0.30060081 -0.2758902  -0.65151393]\n",
      " [ 0.68793256  0.85769109 -0.65015676 -0.80418293  0.8806779 ]\n",
      " [-0.2075249   0.54087946  0.54647187  0.03402414  0.80947992]\n",
      " [ 0.41886027 -0.96251365  0.86525237 -0.34859938  0.89324443]\n",
      " [-0.1681231  -0.53542153  0.89288863  0.10310813  0.03817146]\n",
      " [ 0.28588632 -0.47365366 -0.29763559 -0.04872908  0.55881158]\n",
      " [ 0.32202738 -0.86766419 -0.03344488  0.15171758  0.34545704]\n",
      " [-0.02050487 -0.27596636 -0.93042014  0.89151193  0.81130981]\n",
      " [-0.65350356  0.4334196   0.2492331  -0.97712137  0.55852745]\n",
      " [ 0.62342404 -0.93641932 -0.45773747 -0.43885352  0.32257738]\n",
      " [ 0.33297066  0.92835719  0.44625893  0.8014101  -0.51428593]\n",
      " [-0.23681923 -0.73259274  0.70254774  0.25949227  0.18447247]\n",
      " [ 0.42168941  0.53603066  0.46215419 -0.9216275   0.50946108]\n",
      " [-0.4009952  -0.16290358  0.49321012  0.87627775 -0.99115612]\n",
      " [-0.26740319 -0.23780933  0.11658489  0.88042826  0.57058021]\n",
      " [ 0.28033919  0.79167164 -0.98845118 -0.68848156  0.16847824]\n",
      " [ 0.94477601  0.50279023 -0.75348617 -0.03027182  0.34267649]\n",
      " [-0.18255701  0.5476462  -0.00535058 -0.07001668  0.26029   ]\n",
      " [ 0.50815982 -0.59922522  0.03216066 -0.19131829  0.73121971]]\n",
      "[[ 0.95714922  0.65774159  0.49935111 -0.5631009  -0.76803024]\n",
      " [-0.34439648 -0.26692897  0.51122155  0.14783673  0.03010342]\n",
      " [ 0.34980086 -0.65860589 -0.72733823  0.52491176 -0.08272365]\n",
      " [ 0.22873866  0.10990605  0.21584753  0.81769398 -0.36584772]\n",
      " [-0.10590754  0.08881349  0.67278544 -0.19764656  0.3499424 ]\n",
      " [-0.71700691  0.78602939  0.76184424  0.39573904 -0.33131811]\n",
      " [ 0.87672977  0.72741654  0.80427703 -0.93258847 -0.23433332]\n",
      " [ 0.44580801  0.69681813  0.47485118  0.27049227  0.2073827 ]\n",
      " [-0.70472333 -0.12810624 -0.14846504  0.64712943 -0.93851593]\n",
      " [ 0.09324413 -0.45276926 -0.8873101   0.4837668  -0.59957002]\n",
      " [ 0.22742239 -0.93631199 -0.42276841  0.87562705 -0.82497569]\n",
      " [-0.21223535  0.95040199  0.40932135  0.02082333 -0.88122515]\n",
      " [-0.99923354 -0.58638927  0.40098217  0.79188268  0.12885979]\n",
      " [-0.54637965 -0.77058531  0.26607154  0.68409114  0.76808746]\n",
      " [ 0.12286668 -0.08536096 -0.44819785  0.87989935 -0.71384628]\n",
      " [-0.87186879  0.58834632  0.44508114 -0.99631865  0.77320245]\n",
      " [ 0.29138857  0.92465485 -0.74415608  0.34023658 -0.83410253]\n",
      " [ 0.27232866 -0.35003488  0.20317867 -0.93505236  0.14697653]\n",
      " [-0.49181496  0.30645223 -0.89893151 -0.55629346  0.0729515 ]\n",
      " [ 0.60466308  0.64895835  0.22809606 -0.14919931 -0.49564492]\n",
      " [-0.42817944  0.82515149 -0.24301293  0.66434252 -0.22522501]\n",
      " [ 0.79190607 -0.54471     0.84668059 -0.62732616 -0.40884753]\n",
      " [ 0.76005697  0.22927813 -0.7098713   0.74402004  0.61972535]]\n",
      "[[ 0.48139837 -0.88845037 -0.92790064  0.60700654  0.01728803]\n",
      " [-0.0333207  -0.05365762  0.34920474  0.06799585 -0.2429195 ]\n",
      " [ 0.34397645 -0.2547681  -0.01007571 -0.14397758  0.18258487]\n",
      " [ 0.99730764 -0.57406546 -0.27552924  0.39429277  0.593381  ]\n",
      " [ 0.82645035 -0.12662937  0.21797075 -0.98121988 -0.06006521]\n",
      " [ 0.60452458 -0.3932208   0.4517974  -0.97341968  0.12362599]\n",
      " [-0.4118358  -0.12223626  0.42777715  0.99334335  0.41732212]\n",
      " [-0.20561022  0.17818657 -0.76024996  0.51279684 -0.77086031]\n",
      " [-0.93382861 -0.95196018  0.52079038 -0.39454343 -0.79908188]\n",
      " [ 0.77303084  0.57362719 -0.80041456  0.25102474 -0.47630375]\n",
      " [-0.97584221 -0.6551129  -0.15038141 -0.90755545  0.04584404]\n",
      " [-0.85479654  0.93635983 -0.45305284  0.98156309 -0.69048448]\n",
      " [-0.57215538 -0.71658768 -0.57316303  0.74150008 -0.82778287]\n",
      " [-0.64486004  0.08114623 -0.97639927  0.74007017  0.33607937]\n",
      " [ 0.67669526  0.7168871   0.48613899 -0.85977696 -0.60056278]\n",
      " [ 0.90333112  0.37029984 -0.89114894 -0.2371474   0.50395852]\n",
      " [ 0.21469701 -0.81745038  0.98740776 -0.84275486  0.29280738]\n",
      " [ 0.84757825 -0.17880706 -0.13805895  0.2296249  -0.24228207]\n",
      " [-0.5709269   0.37045725 -0.08629204  0.15505823 -0.34644737]\n",
      " [-0.38271299 -0.84913969  0.8007172   0.1441284  -0.33742385]\n",
      " [ 0.38142855  0.91373323 -0.16427003 -0.76688856 -0.76214293]\n",
      " [-0.06373074 -0.92675371  0.34704488  0.98836367  0.04227544]\n",
      " [-0.74237109 -0.19055968  0.34128545 -0.8481721   0.02334964]]\n",
      "[[ 0.17715817 -0.9423679  -0.12665639 -0.12000387  0.41768326]\n",
      " [ 0.00256537 -0.96102249  0.86241392 -0.71068622 -0.76276756]\n",
      " [ 0.19552661  0.82973682  0.80788046  0.71102062 -0.14617097]\n",
      " [ 0.43519246  0.91361382 -0.357455   -0.39797073  0.81526378]\n",
      " [ 0.3211243   0.69538459  0.95721509  0.62076753 -0.86885643]\n",
      " [ 0.62155601 -0.69397014  0.71958847 -0.35580655 -0.23626272]\n",
      " [ 0.11651153  0.96789835 -0.20722127 -0.60884862 -0.45108986]\n",
      " [-0.89800117  0.80974248  0.77462979 -0.61043824 -0.48729422]\n",
      " [-0.18465539 -0.28065024 -0.02367497 -0.73319607 -0.8619705 ]\n",
      " [ 0.05183475  0.75446739 -0.43237608  0.81842754 -0.56007445]\n",
      " [ 0.56518559 -0.10450224  0.39408381 -0.46472307 -0.32547915]\n",
      " [ 0.22706087  0.57620481 -0.77881191 -0.0513341   0.03478873]\n",
      " [ 0.79476472 -0.59963825  0.00187354  0.42947406  0.75255956]\n",
      " [-0.03940943 -0.50793728  0.68581753  0.81644535 -0.3389032 ]\n",
      " [ 0.89323295 -0.800381   -0.46838384 -0.14529002 -0.97346285]\n",
      " [-0.5306144  -0.98773766  0.10951302  0.91168448  0.66724845]\n",
      " [ 0.23978839  0.9305429   0.81082398  0.5466775   0.59703339]\n",
      " [-0.42424422  0.24415196  0.85106434 -0.59899096  0.7502301 ]\n",
      " [ 0.69487348 -0.5281738   0.66279765  0.1341564   0.42470245]\n",
      " [-0.39115759 -0.9915404  -0.29166606 -0.12338969 -0.61557431]\n",
      " [ 0.61460458 -0.85276193 -0.9447288  -0.02443903  0.33940163]\n",
      " [-0.9094742  -0.81785614  0.0988937   0.41389728 -0.97961044]\n",
      " [ 0.06763908  0.28589045  0.76097939  0.08099739 -0.67419464]]\n",
      "[[-0.25749135 -0.21901139 -0.38890603 -0.35892246 -0.4594393 ]\n",
      " [ 0.94543199  0.40655037  0.77971002 -0.67364537  0.54001088]\n",
      " [-0.89582434 -0.1153508  -0.31702555  0.42909918  0.81513945]\n",
      " [ 0.94269154  0.56720503 -0.28940371 -0.51154627  0.34427211]\n",
      " [-0.89244914 -0.69143904  0.51339691 -0.34235601 -0.34602828]\n",
      " [ 0.57075968  0.809756    0.92017746 -0.74949616 -0.80371023]\n",
      " [-0.43153413 -0.66546362  0.34133572  0.75475101  0.56792722]\n",
      " [-0.26040049  0.73625074  0.48605354  0.99660994  0.18577119]\n",
      " [ 0.17669656  0.16331917  0.01176916  0.85755559 -0.74023802]\n",
      " [-0.03538387 -0.79654045  0.87736624 -0.67518222 -0.51078863]\n",
      " [-0.89042603  0.91172553  0.09092217  0.89499315  0.89684584]\n",
      " [ 0.38986254 -0.56172816  0.55312307  0.0911734  -0.3085256 ]\n",
      " [-0.53644426 -0.8604954  -0.35825807  0.53324625 -0.36138052]\n",
      " [ 0.52270571  0.0167486   0.14950852 -0.71344559  0.38405909]\n",
      " [ 0.95425646 -0.1001506  -0.87191396 -0.1631945  -0.57458159]\n",
      " [-0.81759777  0.58444584 -0.23695796 -0.00546549 -0.15825125]\n",
      " [ 0.6056928   0.27701344 -0.21075929 -0.3110839   0.68569252]\n",
      " [ 0.42009025  0.131821    0.85850975  0.21995447  0.07969993]\n",
      " [-0.79361936 -0.15972637  0.43441385  0.55349195  0.78464595]\n",
      " [-0.98256636  0.89863972 -0.47022846 -0.16667047  0.14571194]\n",
      " [-0.76437435  0.21680113 -0.47950697  0.22009342 -0.0866076 ]\n",
      " [ 0.74501508  0.05798997 -0.71886696 -0.23488373  0.4963999 ]\n",
      " [ 0.60176015  0.82924314 -0.19794232 -0.7734764  -0.34284363]]\n"
     ]
    },
    {
     "name": "stdout",
     "output_type": "stream",
     "text": [
      "Epoch 1/50\n",
      "55/55 [==============================] - 57s 884ms/step - loss: 0.7046 - accuracy: 0.4909 - val_loss: 0.6935 - val_accuracy: 0.4887\n",
      "Epoch 2/50\n",
      "55/55 [==============================] - 48s 870ms/step - loss: 0.6985 - accuracy: 0.5016 - val_loss: 0.6970 - val_accuracy: 0.5034\n",
      "Epoch 3/50\n",
      "55/55 [==============================] - 48s 871ms/step - loss: 0.6969 - accuracy: 0.5021 - val_loss: 0.6935 - val_accuracy: 0.4850\n",
      "Epoch 4/50\n",
      "55/55 [==============================] - 48s 871ms/step - loss: 0.6956 - accuracy: 0.5047 - val_loss: 0.6936 - val_accuracy: 0.5039\n",
      "Epoch 5/50\n",
      "55/55 [==============================] - 48s 871ms/step - loss: 0.6949 - accuracy: 0.4991 - val_loss: 0.6949 - val_accuracy: 0.4966\n",
      "Epoch 6/50\n",
      "55/55 [==============================] - 48s 871ms/step - loss: 0.6951 - accuracy: 0.5029 - val_loss: 0.6932 - val_accuracy: 0.5076\n",
      "Epoch 7/50\n",
      "55/55 [==============================] - 48s 873ms/step - loss: 0.6942 - accuracy: 0.5011 - val_loss: 0.6933 - val_accuracy: 0.4961\n",
      "Epoch 8/50\n",
      "55/55 [==============================] - 48s 873ms/step - loss: 0.6947 - accuracy: 0.5049 - val_loss: 0.6942 - val_accuracy: 0.4966\n",
      "Epoch 9/50\n",
      "55/55 [==============================] - 48s 872ms/step - loss: 0.6936 - accuracy: 0.4987 - val_loss: 0.6932 - val_accuracy: 0.5066\n",
      "Epoch 10/50\n",
      "55/55 [==============================] - 48s 872ms/step - loss: 0.6942 - accuracy: 0.4931 - val_loss: 0.6932 - val_accuracy: 0.4929\n",
      "Epoch 11/50\n",
      "55/55 [==============================] - 48s 873ms/step - loss: 0.6931 - accuracy: 0.5024 - val_loss: 0.6932 - val_accuracy: 0.4987\n",
      "Epoch 12/50\n",
      "55/55 [==============================] - 48s 872ms/step - loss: 0.6940 - accuracy: 0.4997 - val_loss: 0.6932 - val_accuracy: 0.4961\n",
      "Epoch 13/50\n",
      "55/55 [==============================] - 48s 876ms/step - loss: 0.6934 - accuracy: 0.4971 - val_loss: 0.6935 - val_accuracy: 0.4976\n",
      "Epoch 14/50\n",
      "55/55 [==============================] - 48s 875ms/step - loss: 0.6939 - accuracy: 0.4956 - val_loss: 0.6934 - val_accuracy: 0.4992\n",
      "Epoch 15/50\n",
      "55/55 [==============================] - 48s 873ms/step - loss: 0.6941 - accuracy: 0.4956 - val_loss: 0.6931 - val_accuracy: 0.5024\n",
      "Epoch 16/50\n",
      "55/55 [==============================] - 48s 874ms/step - loss: 0.6926 - accuracy: 0.5146 - val_loss: 0.6938 - val_accuracy: 0.5034\n",
      "Epoch 17/50\n",
      "55/55 [==============================] - 48s 875ms/step - loss: 0.6941 - accuracy: 0.5001 - val_loss: 0.6932 - val_accuracy: 0.4961\n",
      "Epoch 18/50\n",
      "55/55 [==============================] - 48s 874ms/step - loss: 0.6928 - accuracy: 0.5066 - val_loss: 0.6932 - val_accuracy: 0.4976\n",
      "Epoch 19/50\n",
      "55/55 [==============================] - 48s 875ms/step - loss: 0.6932 - accuracy: 0.5040 - val_loss: 0.6932 - val_accuracy: 0.5018\n",
      "Epoch 20/50\n",
      "55/55 [==============================] - 48s 878ms/step - loss: 0.6936 - accuracy: 0.4977 - val_loss: 0.6931 - val_accuracy: 0.4945\n",
      "Epoch 21/50\n",
      "55/55 [==============================] - 48s 873ms/step - loss: 0.6929 - accuracy: 0.5170 - val_loss: 0.6938 - val_accuracy: 0.5039\n",
      "Epoch 22/50\n",
      "55/55 [==============================] - 48s 874ms/step - loss: 0.6934 - accuracy: 0.5024 - val_loss: 0.6934 - val_accuracy: 0.5055\n",
      "Epoch 23/50\n",
      "55/55 [==============================] - 48s 873ms/step - loss: 0.6929 - accuracy: 0.5183 - val_loss: 0.6936 - val_accuracy: 0.4871\n",
      "Epoch 24/50\n",
      "55/55 [==============================] - 48s 872ms/step - loss: 0.6930 - accuracy: 0.5130 - val_loss: 0.6935 - val_accuracy: 0.4924\n",
      "Epoch 25/50\n",
      "55/55 [==============================] - 48s 873ms/step - loss: 0.6925 - accuracy: 0.5126 - val_loss: 0.6934 - val_accuracy: 0.5029\n",
      "Epoch 26/50\n",
      "55/55 [==============================] - 48s 873ms/step - loss: 0.6936 - accuracy: 0.4991 - val_loss: 0.6934 - val_accuracy: 0.4897\n",
      "Epoch 27/50\n",
      "55/55 [==============================] - 48s 875ms/step - loss: 0.6930 - accuracy: 0.5110 - val_loss: 0.6940 - val_accuracy: 0.4929\n",
      "Epoch 28/50\n",
      "55/55 [==============================] - 48s 876ms/step - loss: 0.6926 - accuracy: 0.5130 - val_loss: 0.6932 - val_accuracy: 0.5039\n",
      "Epoch 29/50\n",
      "55/55 [==============================] - 48s 877ms/step - loss: 0.6926 - accuracy: 0.5084 - val_loss: 0.6930 - val_accuracy: 0.5087\n",
      "Epoch 30/50\n",
      "55/55 [==============================] - 48s 879ms/step - loss: 0.6930 - accuracy: 0.5121 - val_loss: 0.6934 - val_accuracy: 0.5082\n",
      "Epoch 31/50\n",
      "55/55 [==============================] - 48s 875ms/step - loss: 0.6925 - accuracy: 0.5130 - val_loss: 0.6933 - val_accuracy: 0.5066\n",
      "Epoch 32/50\n",
      "55/55 [==============================] - 48s 881ms/step - loss: 0.6918 - accuracy: 0.5226 - val_loss: 0.6928 - val_accuracy: 0.5140\n",
      "Epoch 33/50\n",
      "55/55 [==============================] - 48s 878ms/step - loss: 0.6916 - accuracy: 0.5271 - val_loss: 0.6939 - val_accuracy: 0.4934\n",
      "Epoch 34/50\n",
      "55/55 [==============================] - 48s 877ms/step - loss: 0.6914 - accuracy: 0.5256 - val_loss: 0.6942 - val_accuracy: 0.5061\n",
      "Epoch 35/50\n",
      "55/55 [==============================] - 48s 878ms/step - loss: 0.6909 - accuracy: 0.5246 - val_loss: 0.6936 - val_accuracy: 0.5118\n",
      "Epoch 36/50\n",
      "55/55 [==============================] - 48s 878ms/step - loss: 0.6902 - accuracy: 0.5339 - val_loss: 0.6953 - val_accuracy: 0.5008\n",
      "Epoch 37/50\n",
      "55/55 [==============================] - 49s 889ms/step - loss: 0.6903 - accuracy: 0.5244 - val_loss: 0.6936 - val_accuracy: 0.5145\n",
      "Epoch 38/50\n",
      "55/55 [==============================] - 49s 893ms/step - loss: 0.6892 - accuracy: 0.5306 - val_loss: 0.6937 - val_accuracy: 0.5161\n",
      "Epoch 39/50\n",
      "55/55 [==============================] - 48s 878ms/step - loss: 0.6902 - accuracy: 0.5263 - val_loss: 0.6936 - val_accuracy: 0.5082\n",
      "Epoch 40/50\n",
      "55/55 [==============================] - 48s 880ms/step - loss: 0.6898 - accuracy: 0.5301 - val_loss: 0.6958 - val_accuracy: 0.5018\n",
      "Epoch 41/50\n",
      "55/55 [==============================] - 48s 875ms/step - loss: 0.6906 - accuracy: 0.5260 - val_loss: 0.6949 - val_accuracy: 0.5029\n",
      "Epoch 42/50\n",
      "55/55 [==============================] - 48s 874ms/step - loss: 0.6886 - accuracy: 0.5400 - val_loss: 0.6951 - val_accuracy: 0.5018\n",
      "Epoch 43/50\n",
      "55/55 [==============================] - 48s 874ms/step - loss: 0.6885 - accuracy: 0.5406 - val_loss: 0.6963 - val_accuracy: 0.4945\n",
      "Epoch 44/50\n",
      "55/55 [==============================] - 48s 875ms/step - loss: 0.6894 - accuracy: 0.5277 - val_loss: 0.6955 - val_accuracy: 0.5166\n",
      "Epoch 45/50\n",
      "55/55 [==============================] - 48s 879ms/step - loss: 0.6872 - accuracy: 0.5326 - val_loss: 0.6969 - val_accuracy: 0.5061\n",
      "Epoch 46/50\n",
      "55/55 [==============================] - 48s 876ms/step - loss: 0.6874 - accuracy: 0.5353 - val_loss: 0.6956 - val_accuracy: 0.5118\n",
      "Epoch 47/50\n",
      "55/55 [==============================] - 48s 879ms/step - loss: 0.6851 - accuracy: 0.5513 - val_loss: 0.6988 - val_accuracy: 0.5039\n",
      "Epoch 48/50\n",
      "55/55 [==============================] - 48s 878ms/step - loss: 0.6876 - accuracy: 0.5354 - val_loss: 0.7012 - val_accuracy: 0.5050\n",
      "Epoch 49/50\n",
      "55/55 [==============================] - 49s 891ms/step - loss: 0.6853 - accuracy: 0.5490 - val_loss: 0.6984 - val_accuracy: 0.5013\n",
      "Epoch 50/50\n",
      "55/55 [==============================] - 49s 891ms/step - loss: 0.6869 - accuracy: 0.5360 - val_loss: 0.6960 - val_accuracy: 0.5039\n",
      "0.5042279158920386\n"
     ]
    }
   ],
   "source": [
    "EMBEDDING_DIM_1D = 5\n",
    "VALIDATION_SPLIT = 0.2\n",
    "BATCH_SIZE = 128\n",
    "EPOCHS = 50\n",
    "M_1D=10\n",
    "\n",
    "x1 = f.BiLSTM_model(MAX_SEQUENCE_LENGTH_1D, EMBEDDING_DIM_1D, num_words_1D, M_1D)\n",
    "x2 = f.BiLSTM_model(MAX_SEQUENCE_LENGTH_1D, EMBEDDING_DIM_1D, num_words_1D, M_1D)\n",
    "x3 = f.BiLSTM_model(MAX_SEQUENCE_LENGTH_1D, EMBEDDING_DIM_1D, num_words_1D, M_1D)\n",
    "x4 = f.BiLSTM_model(MAX_SEQUENCE_LENGTH_1D, EMBEDDING_DIM_1D, num_words_1D, M_1D)\n",
    "x5 = f.BiLSTM_model(MAX_SEQUENCE_LENGTH_1D, EMBEDDING_DIM_1D, num_words_1D, M_1D)\n",
    "x6 = f.BiLSTM_model(MAX_SEQUENCE_LENGTH_1D, EMBEDDING_DIM_1D, num_words_1D, M_1D)\n",
    "\n",
    "concatenator = Concatenate(axis=1)\n",
    "x = concatenator([x1.output, x2.output, x3.output, x4.output, x5.output, x6.output])\n",
    "x = Dense(128)(x)\n",
    "x = Dropout(0.2)(x)\n",
    "output = Dense(1, activation=\"sigmoid\",name=\"Final\")(x)\n",
    "model1D_doubleip = Model(inputs=[x1.input, x2.input, x3.input, x4.input, x5.input, x6.input], outputs=output)\n",
    "\n",
    "model1D_doubleip.compile(loss='binary_crossentropy', optimizer='adam', metrics=['accuracy'])\n",
    "#plot_model(model1D_doubleip, to_file='model_plot.png', show_shapes=True, show_layer_names=False)\n",
    "\n",
    "trains = [data1_1D_doubleip_pre,data2_1D_doubleip_pre,data1_1D_doubleip_center,data2_1D_doubleip_center,data1_1D_doubleip_post,data2_1D_doubleip_post]\n",
    "tests = [data1_test_1D_doubleip_pre,data2_test_1D_doubleip_pre,data1_test_1D_doubleip_center,data2_test_1D_doubleip_center,data1_test_1D_doubleip_post,data2_test_1D_doubleip_post]\n",
    "\n",
    "model1D_doubleip.fit(trains, df_train['label'].values, epochs=EPOCHS, validation_data=(tests, df_test['label'].values),batch_size=BATCH_SIZE)\n",
    "print(roc_auc_score(df_test['label'].values, model1D_doubleip.predict(tests)))"
   ]
  },
  {
   "cell_type": "code",
   "execution_count": null,
   "metadata": {},
   "outputs": [],
   "source": []
  },
  {
   "cell_type": "code",
   "execution_count": null,
   "metadata": {},
   "outputs": [],
   "source": []
  }
 ],
 "metadata": {
  "kernelspec": {
   "display_name": "Python 3",
   "language": "python",
   "name": "python3"
  },
  "language_info": {
   "codemirror_mode": {
    "name": "ipython",
    "version": 3
   },
   "file_extension": ".py",
   "mimetype": "text/x-python",
   "name": "python",
   "nbconvert_exporter": "python",
   "pygments_lexer": "ipython3",
   "version": "3.8.3"
  }
 },
 "nbformat": 4,
 "nbformat_minor": 4
}
