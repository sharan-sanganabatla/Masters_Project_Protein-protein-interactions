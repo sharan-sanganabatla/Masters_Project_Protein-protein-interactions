{
 "cells": [
  {
   "cell_type": "code",
   "execution_count": 1,
   "metadata": {},
   "outputs": [],
   "source": [
    "import pandas as pd\n",
    "import pickle5 as pickle\n",
    "import os\n",
    "import sys\n",
    "import numpy as np\n",
    "import pandas as pd\n",
    "import matplotlib.pyplot as plt\n",
    "from keras.preprocessing.text import Tokenizer\n",
    "from keras.preprocessing.sequence import pad_sequences\n",
    "from keras.layers import Dense, Input, GlobalMaxPooling1D, Flatten\n",
    "from keras.layers import Conv1D, MaxPooling1D, Embedding,  Concatenate, Lambda\n",
    "from keras.models import Model\n",
    "from sklearn.metrics import roc_auc_score,roc_curve, auc\n",
    "from numpy import random\n",
    "from keras.layers import LSTM, Bidirectional, GlobalMaxPool1D, Dropout\n",
    "from tensorflow.keras.optimizers import Adam\n",
    "from keras.utils.vis_utils import plot_model\n",
    "import seaborn as sns\n",
    "\n",
    "\n",
    "import functions as f"
   ]
  },
  {
   "cell_type": "code",
   "execution_count": 2,
   "metadata": {},
   "outputs": [],
   "source": [
    "def load_data(D,randomize=False):\n",
    "    try:\n",
    "        with open(\"df_train_\"+str(D)+\"D.pkl\", \"rb\") as fh:\n",
    "          df_train = pickle.load(fh)\n",
    "    except:\n",
    "        df_train = pd.read_pickle(\"hyppi-train-data.pkl\")\n",
    "    try:\n",
    "        with open(\"df_test_\"+str(D)+\"D.pkl\", \"rb\") as fh:\n",
    "          df_test = pickle.load(fh)\n",
    "    except:\n",
    "        df_test = pd.read_pickle(\"hyppi-test-data.pkl\")\n",
    "    if randomize:\n",
    "        return f.shuff_together(df_train,df_test)\n",
    "    else:\n",
    "        return df_train,df_test\n",
    "\n",
    "df_train,df_test = load_data(3)\n",
    "print('The data used will be:')\n",
    "df_train[['Human','Pathogen']]"
   ]
  },
  {
   "cell_type": "code",
   "execution_count": 3,
   "metadata": {},
   "outputs": [
    {
     "name": "stdout",
     "output_type": "stream",
     "text": [
      "Median length of Human sequence is 450\n"
     ]
    },
    {
     "data": {
      "image/png": "[encoded data removed]",
      "text/plain": [
       "<Figure size 360x360 with 1 Axes>"
      ]
     },
     "metadata": {
      "needs_background": "light"
     },
     "output_type": "display_data"
    }
   ],
   "source": [
    "lengths = sorted(len(s) for s in df_train['Human'])\n",
    "print(\"Median length of Human sequence is\",lengths[len(lengths)//2])\n",
    "_  = sns.displot(lengths)\n",
    "_=plt.title(\"Most Human sequences seem to be less than 2000 in length\")"
   ]
  },
  {
   "cell_type": "code",
   "execution_count": 4,
   "metadata": {},
   "outputs": [
    {
     "name": "stdout",
     "output_type": "stream",
     "text": [
      "Median length of Influenza sequence is 454\n"
     ]
    },
    {
     "data": {
      "image/png": "[encoded data removed]",
      "text/plain": [
       "<Figure size 360x360 with 1 Axes>"
      ]
     },
     "metadata": {
      "needs_background": "light"
     },
     "output_type": "display_data"
    }
   ],
   "source": [
    "lengths = sorted(len(s) for s in df_train['Pathogen'])\n",
    "print(\"Median length of Influenza sequence is\",lengths[len(lengths)//2])\n",
    "_  = sns.displot(lengths)\n",
    "_=plt.title(\"Most Influenza sequences seem to be less than 1000 in length\")"
   ]
  },
  {
   "cell_type": "code",
   "execution_count": 5,
   "metadata": {},
   "outputs": [
    {
     "name": "stdout",
     "output_type": "stream",
     "text": [
      "['Human', 'Pathogen', 'Joined', 'label']\n",
      "max sequences1_train length: 7570\n",
      "min sequences1_train length: 36\n",
      "median sequences1_train length: 450\n",
      "max word index sequences1_train: 22\n",
      "max sequences2_train length: 759\n",
      "min sequences2_train length: 87\n",
      "median sequences2_train length: 454\n",
      "max word index sequences2_train: 20\n",
      "Found 22 unique tokens in tokenizer1.\n",
      "Found 20 unique tokens in tokenizer2.\n",
      "pre padding\n",
      "Shape of data1 tensor: (7000, 1000)\n",
      "Shape of data2 tensor: (7000, 1000)\n",
      "max test_sequences1 length: 5890\n",
      "min test_sequences1 length: 38\n",
      "median test_sequences1 length: 443\n",
      "max test_sequences2 length: 759\n",
      "min test_sequences2 length: 87\n",
      "median test_sequences2 length: 498\n",
      "pre padding for test seq.\n",
      "Shape of test_data1 tensor: (1899, 1000)\n",
      "Shape of test_data2 tensor: (1899, 1000)\n",
      "num_words is 22\n"
     ]
    }
   ],
   "source": [
    "data1,data2,data1_test,data2_test,num_words,MAX_SEQUENCE_LENGTH,MAX_VOCAB_SIZE = f.get_seq_data_doubleip(7000,1000,df_train,df_test, pad='pre')"
   ]
  },
  {
   "cell_type": "code",
   "execution_count": 6,
   "metadata": {},
   "outputs": [
    {
     "name": "stdout",
     "output_type": "stream",
     "text": [
      "[[ 0.5574417  -0.58122322  0.24578844  0.0571863  -0.82205726]\n",
      " [-0.5752304  -0.99694024  0.1794826   0.00502331  0.96102299]\n",
      " [-0.49433519 -0.2521099   0.41814972 -0.83998099  0.32391787]\n",
      " [-0.19629209 -0.39035042 -0.19093898  0.693012    0.93346749]\n",
      " [-0.91510029  0.82637965 -0.41474343 -0.82972579  0.61643041]\n",
      " [ 0.42181527 -0.49747895 -0.25294262 -0.93165284  0.07186688]\n",
      " [-0.64387441  0.59320646  0.04990079  0.03160207 -0.69821793]\n",
      " [-0.77166757 -0.28543248  0.55884198  0.82909016  0.54079044]\n",
      " [-0.50994572  0.69633364 -0.88456206 -0.90183629 -0.99230976]\n",
      " [ 0.98269006  0.36521755  0.77019457 -0.58245151 -0.06531715]\n",
      " [-0.72515091 -0.4058864   0.55545665 -0.59410617  0.52700894]\n",
      " [ 0.43763798 -0.70457671 -0.09032725 -0.37043663  0.1654985 ]\n",
      " [ 0.62803553 -0.59857125 -0.87397482 -0.30127997  0.79990068]\n",
      " [ 0.50293143  0.83990592  0.29525723 -0.49364689  0.59410597]\n",
      " [-0.39420726  0.5118133   0.22591178 -0.84671075  0.32715734]\n",
      " [ 0.47326492 -0.80402734 -0.68554294  0.70522015 -0.05920779]\n",
      " [ 0.36117959  0.41180084 -0.13330327 -0.48686032  0.91740773]\n",
      " [-0.21096815  0.79789505 -0.90558098  0.67394361 -0.58796911]\n",
      " [-0.95829152 -0.23721489 -0.8021279   0.74608547 -0.40420079]\n",
      " [-0.5624455  -0.21309265 -0.37514476 -0.44815588  0.92287785]\n",
      " [ 0.80509517  0.5358407  -0.16308493 -0.80990433 -0.71792213]\n",
      " [-0.83168771  0.55345442 -0.2440472  -0.12553366 -0.00674075]]\n",
      "[[ 0.48142362 -0.58783511  0.28136286 -0.35147408 -0.29832827]\n",
      " [ 0.041764    0.82815721 -0.85100084  0.56461097  0.44918513]\n",
      " [ 0.48509329  0.7060242   0.08256095  0.47757469 -0.21324182]\n",
      " [-0.85900058  0.77378893  0.37187899  0.69421128 -0.46515807]\n",
      " [ 0.74406672  0.90899207 -0.93775175 -0.70961902 -0.63068952]\n",
      " [-0.15921849  0.26481753 -0.97456504 -0.97484784  0.38092861]\n",
      " [ 0.42515357  0.09988352  0.41980625  0.4028271  -0.68543209]\n",
      " [ 0.56598053 -0.97075064 -0.59068727  0.27648614 -0.28730548]\n",
      " [-0.63239712 -0.40422918 -0.52207434 -0.4959658  -0.84832571]\n",
      " [ 0.71040985  0.07285874 -0.54177983 -0.7739808  -0.76317527]\n",
      " [ 0.90007992  0.89029709 -0.2355038   0.60930321  0.68014146]\n",
      " [-0.44322722 -0.15479223 -0.44326044 -0.19437855  0.03702043]\n",
      " [-0.61013074 -0.82696322 -0.68618954 -0.36258699 -0.95879613]\n",
      " [-0.40153733  0.88872577 -0.76485665 -0.55052789 -0.26725443]\n",
      " [-0.17902796  0.37786586 -0.80417609 -0.65891944  0.39382952]\n",
      " [-0.16697766  0.45202789  0.14307941 -0.91328096  0.99017779]\n",
      " [-0.60172636 -0.37625592  0.86204509  0.70718464 -0.59064532]\n",
      " [ 0.7005468   0.37018224 -0.37085172 -0.18122334 -0.67812318]\n",
      " [-0.42605954  0.82001439 -0.8228131   0.33059285  0.40813966]\n",
      " [ 0.5078991   0.87630686 -0.27141104  0.27574216 -0.40120797]\n",
      " [ 0.39970123  0.43207129 -0.2956009  -0.56485652  0.78597229]\n",
      " [-0.50961582  0.0617566  -0.58872532  0.8301304   0.09470687]]\n",
      "[[ 0.66697375 -0.17952566  0.90763869 -0.19919762  0.38262067]\n",
      " [ 0.24634647  0.81884256 -0.18366348 -0.88524654 -0.04457125]\n",
      " [-0.13065493  0.5339054   0.56996205 -0.67839444  0.05186105]\n",
      " [-0.63514557 -0.86777609 -0.20496139 -0.81846609 -0.71915884]\n",
      " [-0.94379438 -0.52763847 -0.49963391  0.98056893 -0.73432875]\n",
      " [-0.64976116  0.5311793   0.20589128  0.91422678  0.9529963 ]\n",
      " [-0.16486043 -0.02880815  0.98645149 -0.34714464  0.22200318]\n",
      " [-0.11105423 -0.58023789 -0.40044744 -0.37730436  0.53108551]\n",
      " [-0.65040586  0.37510961 -0.1442389   0.88407101 -0.17311905]\n",
      " [ 0.06309919  0.74795253 -0.15732276  0.69453853  0.30547369]\n",
      " [-0.68828933 -0.26520101  0.37934554  0.60448085 -0.01599844]\n",
      " [-0.80480865 -0.4511907  -0.73985054 -0.76237881  0.01251323]\n",
      " [-0.51877463  0.84555515 -0.14498328 -0.75728046  0.07007021]\n",
      " [ 0.30994154 -0.9701118  -0.72650322  0.03699175  0.87280587]\n",
      " [-0.40479975  0.64101626  0.67872265  0.49245638 -0.15452925]\n",
      " [-0.75160079 -0.12021501 -0.58781653 -0.40783595 -0.08684608]\n",
      " [-0.69598846  0.01177812 -0.02855042  0.39881171 -0.03199736]\n",
      " [-0.97190553 -0.1340397  -0.16347197  0.08482587  0.33237878]\n",
      " [-0.24978228 -0.61495308 -0.60639727 -0.22023121 -0.01394491]\n",
      " [ 0.87854325 -0.17785089  0.66539659  0.60802388 -0.17256541]\n",
      " [-0.56514228 -0.22618369  0.54949239  0.88925986  0.44009425]\n",
      " [-0.63603773 -0.48066373  0.06453487  0.62664406  0.3688822 ]]\n",
      "[[-0.27179024  0.47896785 -0.43385616 -0.79049085 -0.14669526]\n",
      " [ 0.19499637  0.32063689  0.30222679 -0.4215608  -0.75011231]\n",
      " [-0.22929251  0.79297661  0.78100544  0.77355581 -0.59523331]\n",
      " [ 0.55648636 -0.25728318 -0.51110422 -0.53492142 -0.08091955]\n",
      " [ 0.60143904  0.27692946 -0.33327105 -0.88151487  0.61482343]\n",
      " [-0.07845129 -0.6243605   0.20888685  0.4201631  -0.96389789]\n",
      " [-0.36951631  0.21178713 -0.56937755  0.83377383 -0.17193571]\n",
      " [-0.62026785  0.98841964  0.26382548 -0.54833243  0.09613273]\n",
      " [-0.24036446 -0.20669653  0.06901594 -0.58769114 -0.86015964]\n",
      " [-0.45383453 -0.26368233  0.18323515  0.35619579 -0.96435825]\n",
      " [ 0.14372211  0.50107699 -0.21358403 -0.12025622 -0.66002866]\n",
      " [ 0.69484125 -0.3939333   0.22095341 -0.74257569 -0.17098867]\n",
      " [-0.00691381  0.96246631  0.54684747  0.69464139 -0.08879726]\n",
      " [-0.88819857 -0.86979043  0.57753464  0.17418462 -0.689177  ]\n",
      " [ 0.62818623  0.06179942  0.20002498  0.51929672 -0.89827626]\n",
      " [-0.23139358  0.65033734  0.29259401 -0.50484824  0.23448588]\n",
      " [-0.16990117  0.2068011  -0.69623826 -0.94732729 -0.91117225]\n",
      " [-0.92358733 -0.66116235  0.79917158  0.79168768 -0.6297309 ]\n",
      " [-0.43814862  0.75599706  0.52014785 -0.51940055 -0.35614041]\n",
      " [ 0.64495461 -0.26707266  0.15080665 -0.65758141  0.56656462]\n",
      " [ 0.55881901  0.78585939  0.90956545 -0.32406737 -0.87567498]\n",
      " [ 0.26472482 -0.58887961  0.04564075  0.65382874 -0.1211726 ]]\n",
      "Epoch 1/20\n",
      "47/55 [========================>.....] - ETA: 12s - loss: 0.7000 - accuracy: 0.4948"
     ]
    },
    {
     "ename": "InvalidArgumentError",
     "evalue": " indices[93,930] = 22 is not in [0, 22)\n\t [[node model_2/embedding/embedding_lookup (defined at <ipython-input-6-9e55e05dc441>:24) ]] [Op:__inference_train_function_22558]\n\nErrors may have originated from an input operation.\nInput Source operations connected to node model_2/embedding/embedding_lookup:\n model_2/embedding/embedding_lookup/13622 (defined at /usr/lib/python3.8/contextlib.py:113)\n\nFunction call stack:\ntrain_function\n",
     "output_type": "error",
     "traceback": [
      "\u001b[0;31m---------------------------------------------------------------------------\u001b[0m",
      "\u001b[0;31mInvalidArgumentError\u001b[0m                      Traceback (most recent call last)",
      "\u001b[0;32m<ipython-input-6-9e55e05dc441>\u001b[0m in \u001b[0;36m<module>\u001b[0;34m\u001b[0m\n\u001b[1;32m     22\u001b[0m \u001b[0mtests\u001b[0m \u001b[0;34m=\u001b[0m \u001b[0;34m[\u001b[0m\u001b[0mdata1_test\u001b[0m\u001b[0;34m,\u001b[0m\u001b[0mdata2_test\u001b[0m\u001b[0;34m,\u001b[0m\u001b[0mdata2_test\u001b[0m\u001b[0;34m,\u001b[0m\u001b[0mdata1_test\u001b[0m\u001b[0;34m]\u001b[0m\u001b[0;34m\u001b[0m\u001b[0;34m\u001b[0m\u001b[0m\n\u001b[1;32m     23\u001b[0m \u001b[0;34m\u001b[0m\u001b[0m\n\u001b[0;32m---> 24\u001b[0;31m \u001b[0mmodel_doubleip\u001b[0m\u001b[0;34m.\u001b[0m\u001b[0mfit\u001b[0m\u001b[0;34m(\u001b[0m\u001b[0mtrains\u001b[0m\u001b[0;34m,\u001b[0m \u001b[0mdf_train\u001b[0m\u001b[0;34m[\u001b[0m\u001b[0;34m'label'\u001b[0m\u001b[0;34m]\u001b[0m\u001b[0;34m.\u001b[0m\u001b[0mvalues\u001b[0m\u001b[0;34m,\u001b[0m\u001b[0mbatch_size\u001b[0m\u001b[0;34m=\u001b[0m\u001b[0mBATCH_SIZE\u001b[0m\u001b[0;34m,\u001b[0m \u001b[0mepochs\u001b[0m\u001b[0;34m=\u001b[0m\u001b[0mEPOCHS\u001b[0m\u001b[0;34m,\u001b[0m\u001b[0mvalidation_data\u001b[0m\u001b[0;34m=\u001b[0m\u001b[0;34m(\u001b[0m\u001b[0mtests\u001b[0m\u001b[0;34m,\u001b[0m\u001b[0mdf_test\u001b[0m\u001b[0;34m[\u001b[0m\u001b[0;34m'label'\u001b[0m\u001b[0;34m]\u001b[0m\u001b[0;34m.\u001b[0m\u001b[0mvalues\u001b[0m\u001b[0;34m)\u001b[0m\u001b[0;34m)\u001b[0m\u001b[0;34m\u001b[0m\u001b[0;34m\u001b[0m\u001b[0m\n\u001b[0m\u001b[1;32m     25\u001b[0m \u001b[0mprint\u001b[0m\u001b[0;34m(\u001b[0m\u001b[0mroc_auc_score\u001b[0m\u001b[0;34m(\u001b[0m\u001b[0mdf_test\u001b[0m\u001b[0;34m[\u001b[0m\u001b[0;34m'label'\u001b[0m\u001b[0;34m]\u001b[0m\u001b[0;34m.\u001b[0m\u001b[0mvalues\u001b[0m\u001b[0;34m,\u001b[0m \u001b[0mmodel_doubleip\u001b[0m\u001b[0;34m.\u001b[0m\u001b[0mpredict\u001b[0m\u001b[0;34m(\u001b[0m\u001b[0mtests\u001b[0m\u001b[0;34m)\u001b[0m\u001b[0;34m)\u001b[0m\u001b[0;34m)\u001b[0m\u001b[0;34m\u001b[0m\u001b[0;34m\u001b[0m\u001b[0m\n",
      "\u001b[0;32m~/.local/lib/python3.8/site-packages/keras/engine/training.py\u001b[0m in \u001b[0;36mfit\u001b[0;34m(self, x, y, batch_size, epochs, verbose, callbacks, validation_split, validation_data, shuffle, class_weight, sample_weight, initial_epoch, steps_per_epoch, validation_steps, validation_batch_size, validation_freq, max_queue_size, workers, use_multiprocessing)\u001b[0m\n\u001b[1;32m   1182\u001b[0m                 _r=1):\n\u001b[1;32m   1183\u001b[0m               \u001b[0mcallbacks\u001b[0m\u001b[0;34m.\u001b[0m\u001b[0mon_train_batch_begin\u001b[0m\u001b[0;34m(\u001b[0m\u001b[0mstep\u001b[0m\u001b[0;34m)\u001b[0m\u001b[0;34m\u001b[0m\u001b[0;34m\u001b[0m\u001b[0m\n\u001b[0;32m-> 1184\u001b[0;31m               \u001b[0mtmp_logs\u001b[0m \u001b[0;34m=\u001b[0m \u001b[0mself\u001b[0m\u001b[0;34m.\u001b[0m\u001b[0mtrain_function\u001b[0m\u001b[0;34m(\u001b[0m\u001b[0miterator\u001b[0m\u001b[0;34m)\u001b[0m\u001b[0;34m\u001b[0m\u001b[0;34m\u001b[0m\u001b[0m\n\u001b[0m\u001b[1;32m   1185\u001b[0m               \u001b[0;32mif\u001b[0m \u001b[0mdata_handler\u001b[0m\u001b[0;34m.\u001b[0m\u001b[0mshould_sync\u001b[0m\u001b[0;34m:\u001b[0m\u001b[0;34m\u001b[0m\u001b[0;34m\u001b[0m\u001b[0m\n\u001b[1;32m   1186\u001b[0m                 \u001b[0mcontext\u001b[0m\u001b[0;34m.\u001b[0m\u001b[0masync_wait\u001b[0m\u001b[0;34m(\u001b[0m\u001b[0;34m)\u001b[0m\u001b[0;34m\u001b[0m\u001b[0;34m\u001b[0m\u001b[0m\n",
      "\u001b[0;32m~/.local/lib/python3.8/site-packages/tensorflow/python/eager/def_function.py\u001b[0m in \u001b[0;36m__call__\u001b[0;34m(self, *args, **kwds)\u001b[0m\n\u001b[1;32m    883\u001b[0m \u001b[0;34m\u001b[0m\u001b[0m\n\u001b[1;32m    884\u001b[0m       \u001b[0;32mwith\u001b[0m \u001b[0mOptionalXlaContext\u001b[0m\u001b[0;34m(\u001b[0m\u001b[0mself\u001b[0m\u001b[0;34m.\u001b[0m\u001b[0m_jit_compile\u001b[0m\u001b[0;34m)\u001b[0m\u001b[0;34m:\u001b[0m\u001b[0;34m\u001b[0m\u001b[0;34m\u001b[0m\u001b[0m\n\u001b[0;32m--> 885\u001b[0;31m         \u001b[0mresult\u001b[0m \u001b[0;34m=\u001b[0m \u001b[0mself\u001b[0m\u001b[0;34m.\u001b[0m\u001b[0m_call\u001b[0m\u001b[0;34m(\u001b[0m\u001b[0;34m*\u001b[0m\u001b[0margs\u001b[0m\u001b[0;34m,\u001b[0m \u001b[0;34m**\u001b[0m\u001b[0mkwds\u001b[0m\u001b[0;34m)\u001b[0m\u001b[0;34m\u001b[0m\u001b[0;34m\u001b[0m\u001b[0m\n\u001b[0m\u001b[1;32m    886\u001b[0m \u001b[0;34m\u001b[0m\u001b[0m\n\u001b[1;32m    887\u001b[0m       \u001b[0mnew_tracing_count\u001b[0m \u001b[0;34m=\u001b[0m \u001b[0mself\u001b[0m\u001b[0;34m.\u001b[0m\u001b[0mexperimental_get_tracing_count\u001b[0m\u001b[0;34m(\u001b[0m\u001b[0;34m)\u001b[0m\u001b[0;34m\u001b[0m\u001b[0;34m\u001b[0m\u001b[0m\n",
      "\u001b[0;32m~/.local/lib/python3.8/site-packages/tensorflow/python/eager/def_function.py\u001b[0m in \u001b[0;36m_call\u001b[0;34m(self, *args, **kwds)\u001b[0m\n\u001b[1;32m    915\u001b[0m       \u001b[0;31m# In this case we have created variables on the first call, so we run the\u001b[0m\u001b[0;34m\u001b[0m\u001b[0;34m\u001b[0m\u001b[0;34m\u001b[0m\u001b[0m\n\u001b[1;32m    916\u001b[0m       \u001b[0;31m# defunned version which is guaranteed to never create variables.\u001b[0m\u001b[0;34m\u001b[0m\u001b[0;34m\u001b[0m\u001b[0;34m\u001b[0m\u001b[0m\n\u001b[0;32m--> 917\u001b[0;31m       \u001b[0;32mreturn\u001b[0m \u001b[0mself\u001b[0m\u001b[0;34m.\u001b[0m\u001b[0m_stateless_fn\u001b[0m\u001b[0;34m(\u001b[0m\u001b[0;34m*\u001b[0m\u001b[0margs\u001b[0m\u001b[0;34m,\u001b[0m \u001b[0;34m**\u001b[0m\u001b[0mkwds\u001b[0m\u001b[0;34m)\u001b[0m  \u001b[0;31m# pylint: disable=not-callable\u001b[0m\u001b[0;34m\u001b[0m\u001b[0;34m\u001b[0m\u001b[0m\n\u001b[0m\u001b[1;32m    918\u001b[0m     \u001b[0;32melif\u001b[0m \u001b[0mself\u001b[0m\u001b[0;34m.\u001b[0m\u001b[0m_stateful_fn\u001b[0m \u001b[0;32mis\u001b[0m \u001b[0;32mnot\u001b[0m \u001b[0;32mNone\u001b[0m\u001b[0;34m:\u001b[0m\u001b[0;34m\u001b[0m\u001b[0;34m\u001b[0m\u001b[0m\n\u001b[1;32m    919\u001b[0m       \u001b[0;31m# Release the lock early so that multiple threads can perform the call\u001b[0m\u001b[0;34m\u001b[0m\u001b[0;34m\u001b[0m\u001b[0;34m\u001b[0m\u001b[0m\n",
      "\u001b[0;32m~/.local/lib/python3.8/site-packages/tensorflow/python/eager/function.py\u001b[0m in \u001b[0;36m__call__\u001b[0;34m(self, *args, **kwargs)\u001b[0m\n\u001b[1;32m   3037\u001b[0m       (graph_function,\n\u001b[1;32m   3038\u001b[0m        filtered_flat_args) = self._maybe_define_function(args, kwargs)\n\u001b[0;32m-> 3039\u001b[0;31m     return graph_function._call_flat(\n\u001b[0m\u001b[1;32m   3040\u001b[0m         filtered_flat_args, captured_inputs=graph_function.captured_inputs)  # pylint: disable=protected-access\n\u001b[1;32m   3041\u001b[0m \u001b[0;34m\u001b[0m\u001b[0m\n",
      "\u001b[0;32m~/.local/lib/python3.8/site-packages/tensorflow/python/eager/function.py\u001b[0m in \u001b[0;36m_call_flat\u001b[0;34m(self, args, captured_inputs, cancellation_manager)\u001b[0m\n\u001b[1;32m   1961\u001b[0m         and executing_eagerly):\n\u001b[1;32m   1962\u001b[0m       \u001b[0;31m# No tape is watching; skip to running the function.\u001b[0m\u001b[0;34m\u001b[0m\u001b[0;34m\u001b[0m\u001b[0;34m\u001b[0m\u001b[0m\n\u001b[0;32m-> 1963\u001b[0;31m       return self._build_call_outputs(self._inference_function.call(\n\u001b[0m\u001b[1;32m   1964\u001b[0m           ctx, args, cancellation_manager=cancellation_manager))\n\u001b[1;32m   1965\u001b[0m     forward_backward = self._select_forward_and_backward_functions(\n",
      "\u001b[0;32m~/.local/lib/python3.8/site-packages/tensorflow/python/eager/function.py\u001b[0m in \u001b[0;36mcall\u001b[0;34m(self, ctx, args, cancellation_manager)\u001b[0m\n\u001b[1;32m    589\u001b[0m       \u001b[0;32mwith\u001b[0m \u001b[0m_InterpolateFunctionError\u001b[0m\u001b[0;34m(\u001b[0m\u001b[0mself\u001b[0m\u001b[0;34m)\u001b[0m\u001b[0;34m:\u001b[0m\u001b[0;34m\u001b[0m\u001b[0;34m\u001b[0m\u001b[0m\n\u001b[1;32m    590\u001b[0m         \u001b[0;32mif\u001b[0m \u001b[0mcancellation_manager\u001b[0m \u001b[0;32mis\u001b[0m \u001b[0;32mNone\u001b[0m\u001b[0;34m:\u001b[0m\u001b[0;34m\u001b[0m\u001b[0;34m\u001b[0m\u001b[0m\n\u001b[0;32m--> 591\u001b[0;31m           outputs = execute.execute(\n\u001b[0m\u001b[1;32m    592\u001b[0m               \u001b[0mstr\u001b[0m\u001b[0;34m(\u001b[0m\u001b[0mself\u001b[0m\u001b[0;34m.\u001b[0m\u001b[0msignature\u001b[0m\u001b[0;34m.\u001b[0m\u001b[0mname\u001b[0m\u001b[0;34m)\u001b[0m\u001b[0;34m,\u001b[0m\u001b[0;34m\u001b[0m\u001b[0;34m\u001b[0m\u001b[0m\n\u001b[1;32m    593\u001b[0m               \u001b[0mnum_outputs\u001b[0m\u001b[0;34m=\u001b[0m\u001b[0mself\u001b[0m\u001b[0;34m.\u001b[0m\u001b[0m_num_outputs\u001b[0m\u001b[0;34m,\u001b[0m\u001b[0;34m\u001b[0m\u001b[0;34m\u001b[0m\u001b[0m\n",
      "\u001b[0;32m~/.local/lib/python3.8/site-packages/tensorflow/python/eager/execute.py\u001b[0m in \u001b[0;36mquick_execute\u001b[0;34m(op_name, num_outputs, inputs, attrs, ctx, name)\u001b[0m\n\u001b[1;32m     57\u001b[0m   \u001b[0;32mtry\u001b[0m\u001b[0;34m:\u001b[0m\u001b[0;34m\u001b[0m\u001b[0;34m\u001b[0m\u001b[0m\n\u001b[1;32m     58\u001b[0m     \u001b[0mctx\u001b[0m\u001b[0;34m.\u001b[0m\u001b[0mensure_initialized\u001b[0m\u001b[0;34m(\u001b[0m\u001b[0;34m)\u001b[0m\u001b[0;34m\u001b[0m\u001b[0;34m\u001b[0m\u001b[0m\n\u001b[0;32m---> 59\u001b[0;31m     tensors = pywrap_tfe.TFE_Py_Execute(ctx._handle, device_name, op_name,\n\u001b[0m\u001b[1;32m     60\u001b[0m                                         inputs, attrs, num_outputs)\n\u001b[1;32m     61\u001b[0m   \u001b[0;32mexcept\u001b[0m \u001b[0mcore\u001b[0m\u001b[0;34m.\u001b[0m\u001b[0m_NotOkStatusException\u001b[0m \u001b[0;32mas\u001b[0m \u001b[0me\u001b[0m\u001b[0;34m:\u001b[0m\u001b[0;34m\u001b[0m\u001b[0;34m\u001b[0m\u001b[0m\n",
      "\u001b[0;31mInvalidArgumentError\u001b[0m:  indices[93,930] = 22 is not in [0, 22)\n\t [[node model_2/embedding/embedding_lookup (defined at <ipython-input-6-9e55e05dc441>:24) ]] [Op:__inference_train_function_22558]\n\nErrors may have originated from an input operation.\nInput Source operations connected to node model_2/embedding/embedding_lookup:\n model_2/embedding/embedding_lookup/13622 (defined at /usr/lib/python3.8/contextlib.py:113)\n\nFunction call stack:\ntrain_function\n"
     ]
    }
   ],
   "source": [
    "EMBEDDING_DIM = 5\n",
    "VALIDATION_SPLIT = 0.2\n",
    "BATCH_SIZE = 128\n",
    "EPOCHS = 20\n",
    "M_1D=10\n",
    "DROP = 0.6\n",
    "\n",
    "ip1 = f.att_model(MAX_SEQUENCE_LENGTH,EMBEDDING_DIM,num_words,DROP,True)\n",
    "ip2 = f.att_model(MAX_SEQUENCE_LENGTH,EMBEDDING_DIM,num_words,DROP,True)\n",
    "\n",
    "concatenator = Concatenate(axis=1)\n",
    "x = concatenator([ip1.output, ip2.output])\n",
    "x = Dense(128)(x)\n",
    "#x = concatenator([x1.output, x2.output]) # output is N x 4M\n",
    "#x = Dense(128, activation='relu')(x)\n",
    "x = Dropout(DROP)(x)\n",
    "output = Dense(1, activation=\"sigmoid\",name=\"Final\")(x)\n",
    "model_doubleip = Model(inputs=[ip1.input,ip2.input], outputs=output)\n",
    "#plot_model(model1D_CNN_doubleip, to_file='model_plot.png', show_shapes=True, show_layer_names=False)\n",
    "model_doubleip.compile(loss='binary_crossentropy', optimizer='adam', metrics=['accuracy'])\n",
    "trains = [data1,data2,data2,data1]\n",
    "tests = [data1_test,data2_test,data2_test,data1_test]\n",
    "\n",
    "model_doubleip.fit(trains, df_train['label'].values,batch_size=BATCH_SIZE, epochs=EPOCHS,validation_data=(tests,df_test['label'].values))\n",
    "print(roc_auc_score(df_test['label'].values, model_doubleip.predict(tests)))"
   ]
  },
  {
   "cell_type": "code",
   "execution_count": null,
   "metadata": {},
   "outputs": [],
   "source": []
  }
 ],
 "metadata": {
  "kernelspec": {
   "display_name": "Python 3",
   "language": "python",
   "name": "python3"
  },
  "language_info": {
   "codemirror_mode": {
    "name": "ipython",
    "version": 3
   },
   "file_extension": ".py",
   "mimetype": "text/x-python",
   "name": "python",
   "nbconvert_exporter": "python",
   "pygments_lexer": "ipython3",
   "version": "3.8.3"
  }
 },
 "nbformat": 4,
 "nbformat_minor": 4
}
