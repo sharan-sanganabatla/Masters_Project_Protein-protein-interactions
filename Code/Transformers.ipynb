{
 "cells": [
  {
   "cell_type": "code",
   "execution_count": null,
   "metadata": {},
   "outputs": [],
   "source": [
    "import pandas as pd\n",
    "import pickle5 as pickle\n",
    "import os\n",
    "import sys\n",
    "import numpy as np\n",
    "import pandas as pd\n",
    "import matplotlib.pyplot as plt\n",
    "from keras.preprocessing.text import Tokenizer\n",
    "from keras.preprocessing.sequence import pad_sequences\n",
    "from keras.layers import Dense, Input, GlobalMaxPooling1D, Flatten\n",
    "from keras.layers import Conv1D, MaxPooling1D, Embedding,  Concatenate, Lambda\n",
    "from keras.models import Model\n",
    "from sklearn.metrics import roc_auc_score,roc_curve, auc\n",
    "from numpy import random\n",
    "from keras.layers import LSTM, Bidirectional, GlobalMaxPool1D, Dropout\n",
    "from tensorflow.keras.optimizers import Adam\n",
    "from keras.utils.vis_utils import plot_model\n",
    "import seaborn as sns\n",
    "\n",
    "\n",
    "import functions as f"
   ]
  },
  {
   "cell_type": "code",
   "execution_count": null,
   "metadata": {},
   "outputs": [],
   "source": [
    "def load_data(D,randomize=False):\n",
    "    try:\n",
    "        with open(\"df_train_\"+str(D)+\"D.pkl\", \"rb\") as fh:\n",
    "          df_train = pickle.load(fh)\n",
    "    except:\n",
    "        df_train = pd.read_pickle(\"hyppi-train-data.pkl\")\n",
    "    try:\n",
    "        with open(\"df_test_\"+str(D)+\"D.pkl\", \"rb\") as fh:\n",
    "          df_test = pickle.load(fh)\n",
    "    except:\n",
    "        df_test = pd.read_pickle(\"hyppi-test-data.pkl\")\n",
    "    if randomize:\n",
    "        return f.shuff_together(df_train,df_test)\n",
    "    else:\n",
    "        return df_train,df_test\n",
    "\n",
    "df_train,df_test = load_data(3)"
   ]
  },
  {
   "cell_type": "code",
   "execution_count": null,
   "metadata": {},
   "outputs": [],
   "source": [
    "data_join,data_test_join,num_words_join,MAX_SEQUENCE_LENGTH_,MAX_VOCAB_SIZE_ = f.get_seq_data_join(5000,2000,df_train,df_test,pad='pre')"
   ]
  },
  {
   "cell_type": "code",
   "execution_count": null,
   "metadata": {},
   "outputs": [],
   "source": [
    "DROP = 0.4\n",
    "BATCH_SIZE = 64\n",
    "EPOCHS = 10\n",
    "ip = f.transf_model(MAX_SEQUENCE_LENGTH_,num_words_join,5,DROP)\n",
    "x = Dropout(DROP)(ip.output)\n",
    "x = Dense(128, activation=\"relu\")(x)\n",
    "x = Dropout(DROP)(x)\n",
    "outputs = Dense(1, activation=\"sigmoid\")(x)\n",
    "model1D_CNN_join=Model(ip.input,outputs)\n",
    "\n",
    "model1D_CNN_join.compile(loss='binary_crossentropy', optimizer=Adam(lr=0.01), metrics=['accuracy'])\n",
    "model1D_CNN_join.fit(data_join, df_train['label'].values,batch_size= BATCH_SIZE,epochs=EPOCHS, validation_data=(data_test_join,df_test['label'].values))\n",
    "print(roc_auc_score(df_test['label'].values, model1D_CNN_join.predict(data_test_join)))"
   ]
  }
 ],
 "metadata": {
  "kernelspec": {
   "display_name": "Python 3",
   "language": "python",
   "name": "python3"
  },
  "language_info": {
   "codemirror_mode": {
    "name": "ipython",
    "version": 3
   },
   "file_extension": ".py",
   "mimetype": "text/x-python",
   "name": "python",
   "nbconvert_exporter": "python",
   "pygments_lexer": "ipython3",
   "version": "3.8.3"
  }
 },
 "nbformat": 4,
 "nbformat_minor": 4
}
