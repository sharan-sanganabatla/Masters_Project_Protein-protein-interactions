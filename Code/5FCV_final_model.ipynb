{
 "cells": [
  {
   "cell_type": "code",
   "execution_count": 1,
   "metadata": {},
   "outputs": [],
   "source": [
    "import pandas as pd\n",
    "#Google colab does not have pickle\n",
    "import pickle5 as pickle\n",
    "import os\n",
    "import seaborn as sns\n",
    "\n",
    "import sys\n",
    "import numpy as np\n",
    "import pandas as pd\n",
    "import matplotlib.pyplot as plt\n",
    "from keras.preprocessing.text import Tokenizer\n",
    "from keras.preprocessing.sequence import pad_sequences\n",
    "from keras.layers import Dense, Input, GlobalMaxPooling1D,Flatten\n",
    "from keras.layers import Conv1D, MaxPooling1D, Embedding,Concatenate\n",
    "from keras.models import Model,load_model\n",
    "from sklearn.metrics import roc_auc_score,confusion_matrix,roc_curve, auc\n",
    "from numpy import random\n",
    "from keras.layers import LSTM, Bidirectional, GlobalMaxPool1D, Dropout\n",
    "from tensorflow.keras.optimizers import Adam\n",
    "from keras.utils.vis_utils import plot_model\n",
    "from keras.metrics import AUC\n",
    "\n",
    "import sys\n",
    "import functions as f"
   ]
  },
  {
   "cell_type": "code",
   "execution_count": 2,
   "metadata": {},
   "outputs": [],
   "source": [
    "five_trains,five_tests = f.load('5Fcrossval_data')\n"
   ]
  },
  {
   "cell_type": "code",
   "execution_count": null,
   "metadata": {},
   "outputs": [],
   "source": [
    "EMBEDDING_DIM_5D = 25\n",
    "BATCH_SIZE = 16\n",
    "EPOCHS = 1\n",
    "DROP = 0.5\n",
    "MAX_SEQUENCE_LENGTH_5D_J = 2000\n",
    "MAX_SEQUENCE_LENGTH_5D_dIP = 1000\n",
    "num_words_5D_J = 1500000\n",
    "num_words_5D = 1000000\n",
    "scores = []\n",
    "\n",
    "for i in range(5):\n",
    "  df_train,df_test = five_trains[i],five_tests[i]\n",
    "  print(\"Fold\",i+1)\n",
    "  trains = f.preprocess(df_train,saveTokrs=False)\n",
    "  tests = f.preprocess(df_test,saveTokrs=False)\n",
    "  x1_join = f.transf_model(MAX_SEQUENCE_LENGTH_5D_J,num_words_5D_J,5,0.9)\n",
    "  x2_join = f.transf_model(MAX_SEQUENCE_LENGTH_5D_J,num_words_5D_J,5,0.9)\n",
    "  x3_join = f.transf_model(MAX_SEQUENCE_LENGTH_5D_J,num_words_5D_J,5,0.9)\n",
    "\n",
    "  x1_doubleip = f.conv_model(MAX_SEQUENCE_LENGTH_5D_dIP,EMBEDDING_DIM_5D,num_words_5D,DROP)\n",
    "  x2_doubleip = f.conv_model(MAX_SEQUENCE_LENGTH_5D_dIP,EMBEDDING_DIM_5D,num_words_5D,DROP)\n",
    "  x3_doubleip = f.conv_model(MAX_SEQUENCE_LENGTH_5D_dIP,EMBEDDING_DIM_5D,num_words_5D,DROP)\n",
    "  x4_doubleip = f.conv_model(MAX_SEQUENCE_LENGTH_5D_dIP,EMBEDDING_DIM_5D,num_words_5D,DROP)\n",
    "  x5_doubleip = f.conv_model(MAX_SEQUENCE_LENGTH_5D_dIP,EMBEDDING_DIM_5D,num_words_5D,DROP)\n",
    "  x6_doubleip = f.conv_model(MAX_SEQUENCE_LENGTH_5D_dIP,EMBEDDING_DIM_5D,num_words_5D,DROP)\n",
    "\n",
    "  concatenator = Concatenate(axis=1)\n",
    "  x = concatenator([x1_join.output, x2_join.output, x3_join.output, x1_doubleip.output, x2_doubleip.output, x3_doubleip.output, x4_doubleip.output, x5_doubleip.output, x6_doubleip.output])\n",
    "  x = Dense(256)(x)\n",
    "  x = Dropout(0.5)(x)\n",
    "  output = Dense(1, activation=\"sigmoid\",name=\"Final\")(x)\n",
    "  model_final = Model(inputs=[x1_join.input, x2_join.input, x3_join.input, x1_doubleip.input, x2_doubleip.input, x3_doubleip.input, x4_doubleip.input, x5_doubleip.input, x6_doubleip.input], outputs=output)\n",
    "\n",
    "  model_final.compile(loss='binary_crossentropy', optimizer='adam', metrics=AUC())\n",
    "\n",
    "  model_final.fit(trains, df_train['label'].values, epochs=EPOCHS, batch_size=BATCH_SIZE, validation_data=(tests,df_test['label'].values))\n",
    "  score = roc_auc_score(df_test['label'].values, model_final.predict(tests))\n",
    "  score = round(score,3)\n",
    "  scores.append(score)\n",
    "  #print(\"Score is\",score)\n",
    "\n",
    "print(\"AUC by cross validation is\",round(sum(scores) / len(scores),2))"
   ]
  }
 ],
 "metadata": {
  "kernelspec": {
   "display_name": "Python 3",
   "language": "python",
   "name": "python3"
  },
  "language_info": {
   "codemirror_mode": {
    "name": "ipython",
    "version": 3
   },
   "file_extension": ".py",
   "mimetype": "text/x-python",
   "name": "python",
   "nbconvert_exporter": "python",
   "pygments_lexer": "ipython3",
   "version": "3.8.10"
  }
 },
 "nbformat": 4,
 "nbformat_minor": 4
}
