{
 "cells": [
  {
   "cell_type": "code",
   "execution_count": 1,
   "metadata": {},
   "outputs": [],
   "source": [
    "import pandas as pd\n",
    "import pickle5 as pickle\n",
    "import os\n",
    "import sys\n",
    "import numpy as np\n",
    "import pandas as pd\n",
    "import matplotlib.pyplot as plt\n",
    "from keras.preprocessing.text import Tokenizer\n",
    "from keras.preprocessing.sequence import pad_sequences\n",
    "from keras.layers import Dense, Input, GlobalMaxPooling1D, Flatten\n",
    "from keras.layers import Conv1D, MaxPooling1D, Embedding,  Concatenate, Lambda\n",
    "from keras.models import Model\n",
    "from sklearn.metrics import roc_auc_score,roc_curve, auc\n",
    "from numpy import random\n",
    "from keras.layers import LSTM, Bidirectional, GlobalMaxPool1D, Dropout\n",
    "from tensorflow.keras.optimizers import Adam\n",
    "from keras.utils.vis_utils import plot_model\n",
    "import seaborn as sns\n",
    "\n",
    "\n",
    "import functions as f"
   ]
  },
  {
   "cell_type": "code",
   "execution_count": 2,
   "metadata": {},
   "outputs": [],
   "source": [
    "def load_data(D,randomize=False):\n",
    "    try:\n",
    "        with open(\"df_train_\"+str(D)+\"D.pkl\", \"rb\") as fh:\n",
    "          df_train = pickle.load(fh)\n",
    "    except:\n",
    "        df_train = pd.read_pickle(\"hyppi-train-data.pkl\")\n",
    "    try:\n",
    "        with open(\"df_test_\"+str(D)+\"D.pkl\", \"rb\") as fh:\n",
    "          df_test = pickle.load(fh)\n",
    "    except:\n",
    "        df_test = pd.read_pickle(\"hyppi-test-data.pkl\")\n",
    "    if randomize:\n",
    "        return f.shuff_together(df_train,df_test)\n",
    "    else:\n",
    "        return df_train,df_test\n",
    "\n",
    "df_train,df_test = load_data(3)\n",
    "print('The data used will be:')\n",
    "df_train[['Human','Pathogen']]"
   ]
  },
  {
   "cell_type": "code",
   "execution_count": 3,
   "metadata": {},
   "outputs": [
    {
     "name": "stdout",
     "output_type": "stream",
     "text": [
      "Median length of Human sequence is 450\n"
     ]
    },
    {
     "data": {
      "image/png": "[encoded data removed]",
      "text/plain": [
       "<Figure size 360x360 with 1 Axes>"
      ]
     },
     "metadata": {
      "needs_background": "light"
     },
     "output_type": "display_data"
    }
   ],
   "source": [
    "lengths = sorted(len(s) for s in df_train['Human'])\n",
    "print(\"Median length of Human sequence is\",lengths[len(lengths)//2])\n",
    "_  = sns.displot(lengths)\n",
    "_=plt.title(\"Most Human sequences seem to be less than 2000 in length\")"
   ]
  },
  {
   "cell_type": "code",
   "execution_count": 4,
   "metadata": {},
   "outputs": [
    {
     "name": "stdout",
     "output_type": "stream",
     "text": [
      "Median length of Influenza sequence is 454\n"
     ]
    },
    {
     "data": {
      "image/png": "[encoded data removed]",
      "text/plain": [
       "<Figure size 360x360 with 1 Axes>"
      ]
     },
     "metadata": {
      "needs_background": "light"
     },
     "output_type": "display_data"
    }
   ],
   "source": [
    "lengths = sorted(len(s) for s in df_train['Pathogen'])\n",
    "print(\"Median length of Influenza sequence is\",lengths[len(lengths)//2])\n",
    "_  = sns.displot(lengths)\n",
    "_=plt.title(\"Most Influenza sequences seem to be less than 1000 in length\")"
   ]
  },
  {
   "cell_type": "code",
   "execution_count": 5,
   "metadata": {},
   "outputs": [
    {
     "name": "stdout",
     "output_type": "stream",
     "text": [
      "['Human', 'Pathogen', 'Joined', 'label']\n",
      "max sequences1_train length: 7570\n",
      "min sequences1_train length: 36\n",
      "median sequences1_train length: 450\n",
      "max word index sequences1_train: 22\n",
      "max sequences2_train length: 759\n",
      "min sequences2_train length: 87\n",
      "median sequences2_train length: 454\n",
      "max word index sequences2_train: 20\n",
      "Found 22 unique tokens in tokenizer1.\n",
      "Found 20 unique tokens in tokenizer2.\n",
      "pre padding\n",
      "Shape of data1 tensor: (7000, 1000)\n",
      "Shape of data2 tensor: (7000, 1000)\n",
      "max test_sequences1 length: 5890\n",
      "min test_sequences1 length: 38\n",
      "median test_sequences1 length: 443\n",
      "max test_sequences2 length: 759\n",
      "min test_sequences2 length: 87\n",
      "median test_sequences2 length: 498\n",
      "pre padding for test seq.\n",
      "Shape of test_data1 tensor: (1899, 1000)\n",
      "Shape of test_data2 tensor: (1899, 1000)\n",
      "num_words is 22\n"
     ]
    }
   ],
   "source": [
    "data1,data2,data1_test,data2_test,num_words,MAX_SEQUENCE_LENGTH,MAX_VOCAB_SIZE = f.get_seq_data_doubleip(7000,1000,df_train,df_test, pad='pre')"
   ]
  },
  {
   "cell_type": "code",
   "execution_count": null,
   "metadata": {},
   "outputs": [],
   "source": [
    "EMBEDDING_DIM = 5\n",
    "VALIDATION_SPLIT = 0.2\n",
    "BATCH_SIZE = 128\n",
    "EPOCHS = 20\n",
    "M_1D=10\n",
    "DROP = 0.6\n",
    "\n",
    "ip1 = f.att_model(MAX_SEQUENCE_LENGTH,EMBEDDING_DIM,num_words,DROP)\n",
    "ip2 = f.att_model(MAX_SEQUENCE_LENGTH,EMBEDDING_DIM,num_words,DROP)\n",
    "\n",
    "concatenator = Concatenate(axis=1)\n",
    "x = concatenator([ip1.output, ip2.output])\n",
    "x = Dense(128)(x)\n",
    "#x = concatenator([x1.output, x2.output]) # output is N x 4M\n",
    "#x = Dense(128, activation='relu')(x)\n",
    "x = Dropout(DROP)(x)\n",
    "output = Dense(1, activation=\"sigmoid\",name=\"Final\")(x)\n",
    "model_CNN = Model(inputs=[ip1.input,ip2.input], outputs=output)\n",
    "#plot_model(model1D_CNN_doubleip, to_file='model_plot.png', show_shapes=True, show_layer_names=False)\n",
    "model_CNN.compile(loss='binary_crossentropy', optimizer='adam', metrics=['accuracy'])\n",
    "trains = [data1,data2,data2,data1]\n",
    "tests = [data1_test,data2_test,data2_test,data1_test]\n",
    "\n",
    "model_CNN.fit(trains, df_train['label'].values,batch_size=BATCH_SIZE, epochs=EPOCHS,validation_data=(tests,df_test['label'].values))\n",
    "print(roc_auc_score(df_test['label'].values, model_doubleip.predict(tests)))"
   ]
  }
 ],
 "metadata": {
  "kernelspec": {
   "display_name": "Python 3",
   "language": "python",
   "name": "python3"
  },
  "language_info": {
   "codemirror_mode": {
    "name": "ipython",
    "version": 3
   },
   "file_extension": ".py",
   "mimetype": "text/x-python",
   "name": "python",
   "nbconvert_exporter": "python",
   "pygments_lexer": "ipython3",
   "version": "3.8.3"
  }
 },
 "nbformat": 4,
 "nbformat_minor": 4
}
