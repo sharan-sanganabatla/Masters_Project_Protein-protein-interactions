{
 "cells": [
  {
   "cell_type": "markdown",
   "metadata": {},
   "source": [
    "# This file generates 5Fold cross validation data for the input dataset."
   ]
  },
  {
   "cell_type": "code",
   "execution_count": 1,
   "metadata": {},
   "outputs": [
    {
     "name": "stderr",
     "output_type": "stream",
     "text": [
      "/Users/sharan.sanganabatla/Final/functions.py:179: SyntaxWarning: \"is\" with a literal. Did you mean \"==\"?\n",
      "  if input(\"Create tokenizers? Enter y if this is new training data. y/n: \") is 'y': create_tokenizers(df_test)\n",
      "/Users/sharan.sanganabatla/Final/functions.py:400: SyntaxWarning: \"is\" with a literal. Did you mean \"==\"?\n",
      "  if pad is 'center':\n",
      "/Users/sharan.sanganabatla/Final/functions.py:414: SyntaxWarning: \"is\" with a literal. Did you mean \"==\"?\n",
      "  if pad is 'center':\n"
     ]
    }
   ],
   "source": [
    "from sklearn.model_selection import StratifiedKFold\n",
    "\n",
    "import pickle5 as pickle\n",
    "import os\n",
    "import seaborn as sns\n",
    "\n",
    "import sys\n",
    "import numpy as np\n",
    "import pandas as pd\n",
    "import matplotlib.pyplot as plt\n",
    "from keras.preprocessing.text import Tokenizer\n",
    "from keras.preprocessing.sequence import pad_sequences\n",
    "from keras.layers import Dense, Input, GlobalMaxPooling1D,Flatten\n",
    "from keras.layers import Conv1D, MaxPooling1D, Embedding,Concatenate\n",
    "from keras.models import Model,load_model\n",
    "from sklearn.metrics import roc_auc_score,confusion_matrix,roc_curve, auc\n",
    "from numpy import random\n",
    "from keras.layers import LSTM, Bidirectional, GlobalMaxPool1D, Dropout\n",
    "from tensorflow.keras.optimizers import Adam\n",
    "from keras.utils.vis_utils import plot_model\n",
    "from keras.metrics import AUC\n",
    "\n",
    "import sys\n",
    "import functions as f"
   ]
  },
  {
   "cell_type": "code",
   "execution_count": 2,
   "metadata": {},
   "outputs": [
    {
     "name": "stdout",
     "output_type": "stream",
     "text": [
      "The data used will be:\n"
     ]
    },
    {
     "data": {
      "text/html": [
       "<div>\n",
       "<style scoped>\n",
       "    .dataframe tbody tr th:only-of-type {\n",
       "        vertical-align: middle;\n",
       "    }\n",
       "\n",
       "    .dataframe tbody tr th {\n",
       "        vertical-align: top;\n",
       "    }\n",
       "\n",
       "    .dataframe thead th {\n",
       "        text-align: right;\n",
       "    }\n",
       "</style>\n",
       "<table border=\"1\" class=\"dataframe\">\n",
       "  <thead>\n",
       "    <tr style=\"text-align: right;\">\n",
       "      <th></th>\n",
       "      <th>Human</th>\n",
       "      <th>Pathogen</th>\n",
       "    </tr>\n",
       "  </thead>\n",
       "  <tbody>\n",
       "    <tr>\n",
       "      <th>0</th>\n",
       "      <td>[M, T, V, V, G, N, P, R, S, W, S, C, Q, W, L, ...</td>\n",
       "      <td>[M, K, A, K, L, L, V, L, L, Y, A, F, V, A, T, ...</td>\n",
       "    </tr>\n",
       "    <tr>\n",
       "      <th>1</th>\n",
       "      <td>[M, F, R, L, L, S, W, S, L, G, R, G, F, L, R, ...</td>\n",
       "      <td>[M, E, R, I, K, E, L, R, N, L, M, S, Q, S, R, ...</td>\n",
       "    </tr>\n",
       "    <tr>\n",
       "      <th>2</th>\n",
       "      <td>[M, A, A, A, A, A, T, K, I, L, L, C, L, P, L, ...</td>\n",
       "      <td>[M, S, L, L, T, E, V, E, T, P, T, R, S, E, W, ...</td>\n",
       "    </tr>\n",
       "    <tr>\n",
       "      <th>3</th>\n",
       "      <td>[M, F, W, K, F, D, L, H, T, S, S, H, L, D, T, ...</td>\n",
       "      <td>[M, S, L, L, T, E, V, E, T, P, I, R, N, E, W, ...</td>\n",
       "    </tr>\n",
       "    <tr>\n",
       "      <th>4</th>\n",
       "      <td>[M, R, P, M, R, I, F, V, N, D, D, R, H, V, M, ...</td>\n",
       "      <td>[M, D, V, N, P, T, L, L, F, L, K, V, P, A, Q, ...</td>\n",
       "    </tr>\n",
       "    <tr>\n",
       "      <th>...</th>\n",
       "      <td>...</td>\n",
       "      <td>...</td>\n",
       "    </tr>\n",
       "    <tr>\n",
       "      <th>6995</th>\n",
       "      <td>[M, L, V, L, F, E, T, S, V, G, Y, A, I, F, K, ...</td>\n",
       "      <td>[M, N, P, N, Q, K, I, I, T, I, G, S, I, C, L, ...</td>\n",
       "    </tr>\n",
       "    <tr>\n",
       "      <th>6996</th>\n",
       "      <td>[M, E, P, P, R, G, P, P, A, N, G, A, E, P, S, ...</td>\n",
       "      <td>[M, D, V, N, P, T, L, L, F, L, K, V, P, A, Q, ...</td>\n",
       "    </tr>\n",
       "    <tr>\n",
       "      <th>6997</th>\n",
       "      <td>[M, S, G, D, H, L, H, N, D, S, Q, I, E, A, D, ...</td>\n",
       "      <td>[M, N, P, N, Q, K, I, I, T, I, G, S, I, C, M, ...</td>\n",
       "    </tr>\n",
       "    <tr>\n",
       "      <th>6998</th>\n",
       "      <td>[M, T, D, S, K, Y, F, T, T, N, K, K, G, E, I, ...</td>\n",
       "      <td>[M, S, L, L, T, E, V, E, T, Y, V, L, S, I, V, ...</td>\n",
       "    </tr>\n",
       "    <tr>\n",
       "      <th>6999</th>\n",
       "      <td>[M, T, D, S, K, Y, F, T, T, N, K, K, G, E, I, ...</td>\n",
       "      <td>[M, N, P, N, Q, K, I, I, T, I, G, S, I, C, M, ...</td>\n",
       "    </tr>\n",
       "  </tbody>\n",
       "</table>\n",
       "<p>7000 rows × 2 columns</p>\n",
       "</div>"
      ],
      "text/plain": [
       "                                                  Human  \\\n",
       "0     [M, T, V, V, G, N, P, R, S, W, S, C, Q, W, L, ...   \n",
       "1     [M, F, R, L, L, S, W, S, L, G, R, G, F, L, R, ...   \n",
       "2     [M, A, A, A, A, A, T, K, I, L, L, C, L, P, L, ...   \n",
       "3     [M, F, W, K, F, D, L, H, T, S, S, H, L, D, T, ...   \n",
       "4     [M, R, P, M, R, I, F, V, N, D, D, R, H, V, M, ...   \n",
       "...                                                 ...   \n",
       "6995  [M, L, V, L, F, E, T, S, V, G, Y, A, I, F, K, ...   \n",
       "6996  [M, E, P, P, R, G, P, P, A, N, G, A, E, P, S, ...   \n",
       "6997  [M, S, G, D, H, L, H, N, D, S, Q, I, E, A, D, ...   \n",
       "6998  [M, T, D, S, K, Y, F, T, T, N, K, K, G, E, I, ...   \n",
       "6999  [M, T, D, S, K, Y, F, T, T, N, K, K, G, E, I, ...   \n",
       "\n",
       "                                               Pathogen  \n",
       "0     [M, K, A, K, L, L, V, L, L, Y, A, F, V, A, T, ...  \n",
       "1     [M, E, R, I, K, E, L, R, N, L, M, S, Q, S, R, ...  \n",
       "2     [M, S, L, L, T, E, V, E, T, P, T, R, S, E, W, ...  \n",
       "3     [M, S, L, L, T, E, V, E, T, P, I, R, N, E, W, ...  \n",
       "4     [M, D, V, N, P, T, L, L, F, L, K, V, P, A, Q, ...  \n",
       "...                                                 ...  \n",
       "6995  [M, N, P, N, Q, K, I, I, T, I, G, S, I, C, L, ...  \n",
       "6996  [M, D, V, N, P, T, L, L, F, L, K, V, P, A, Q, ...  \n",
       "6997  [M, N, P, N, Q, K, I, I, T, I, G, S, I, C, M, ...  \n",
       "6998  [M, S, L, L, T, E, V, E, T, Y, V, L, S, I, V, ...  \n",
       "6999  [M, N, P, N, Q, K, I, I, T, I, G, S, I, C, M, ...  \n",
       "\n",
       "[7000 rows x 2 columns]"
      ]
     },
     "execution_count": 2,
     "metadata": {},
     "output_type": "execute_result"
    }
   ],
   "source": [
    "def load_data(D=1,randomize=False):\n",
    "    try:\n",
    "        with open(\"hyppi-train-data.pkl\", \"rb\") as fh:\n",
    "          df_train = pickle.load(fh)\n",
    "    except:\n",
    "        df_train = pd.read_pickle(\"hyppi-train-data.pkl\")\n",
    "    try:\n",
    "        with open(\"hyppi-test-data.pkl\", \"rb\") as fh:\n",
    "          df_test = pickle.load(fh)\n",
    "    except:\n",
    "        df_test = pd.read_pickle(\"hyppi-test-data.pkl\")\n",
    "    if randomize:\n",
    "        return shuff_together(df_train,df_test)\n",
    "    else:\n",
    "        return df_train,df_test\n",
    "\n",
    "df_train,df_test = load_data()\n",
    "print('The data used will be:')\n",
    "df_train[['Human','Pathogen']]"
   ]
  },
  {
   "cell_type": "code",
   "execution_count": 4,
   "metadata": {},
   "outputs": [],
   "source": [
    "skf = StratifiedKFold(n_splits=5,shuffle=True) \n",
    "X = df_train[['Human','Pathogen']]\n",
    "y = df_train[['label']]\n",
    "skf.get_n_splits(X, y)\n",
    "trains = []\n",
    "tests = []\n",
    "for train_index, test_index in skf.split(X, y):\n",
    "    trains.append(df_train.iloc[train_index].reset_index(drop=True))\n",
    "    tests.append(df_train.iloc[test_index].reset_index(drop=True))\n",
    "\n",
    "cv_data = (trains,tests)\n",
    "f.save(cv_data,'5Fcrossval_data')"
   ]
  },
  {
   "cell_type": "code",
   "execution_count": null,
   "metadata": {},
   "outputs": [],
   "source": []
  }
 ],
 "metadata": {
  "kernelspec": {
   "display_name": "Python 3",
   "language": "python",
   "name": "python3"
  },
  "language_info": {
   "codemirror_mode": {
    "name": "ipython",
    "version": 3
   },
   "file_extension": ".py",
   "mimetype": "text/x-python",
   "name": "python",
   "nbconvert_exporter": "python",
   "pygments_lexer": "ipython3",
   "version": "3.8.3"
  }
 },
 "nbformat": 4,
 "nbformat_minor": 4
}
