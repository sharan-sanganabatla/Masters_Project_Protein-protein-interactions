{
 "cells": [
  {
   "cell_type": "code",
   "execution_count": 1,
   "metadata": {},
   "outputs": [
    {
     "name": "stderr",
     "output_type": "stream",
     "text": [
      "/home/hari/cODE/functions.py:179: SyntaxWarning: \"is\" with a literal. Did you mean \"==\"?\n",
      "  if input(\"Create tokenizers? Enter y if this is new training data. y/n: \") is 'y': create_tokenizers(df_test)\n",
      "/home/hari/cODE/functions.py:406: SyntaxWarning: \"is\" with a literal. Did you mean \"==\"?\n",
      "  if pad is 'center':\n",
      "/home/hari/cODE/functions.py:420: SyntaxWarning: \"is\" with a literal. Did you mean \"==\"?\n",
      "  if pad is 'center':\n"
     ]
    }
   ],
   "source": [
    "import pandas as pd\n",
    "import pickle5 as pickle\n",
    "import os\n",
    "import sys\n",
    "import numpy as np\n",
    "import pandas as pd\n",
    "import matplotlib.pyplot as plt\n",
    "from keras.preprocessing.text import Tokenizer\n",
    "from keras.preprocessing.sequence import pad_sequences\n",
    "from keras.layers import Dense, Input, GlobalMaxPooling1D, Flatten\n",
    "from keras.layers import Conv1D, MaxPooling1D, Embedding,  Concatenate, Lambda\n",
    "from keras.models import Model\n",
    "from sklearn.metrics import roc_auc_score,roc_curve, auc\n",
    "from numpy import random\n",
    "from keras.layers import LSTM, Bidirectional, GlobalMaxPool1D, Dropout\n",
    "from tensorflow.keras.optimizers import Adam\n",
    "from keras.utils.vis_utils import plot_model\n",
    "import seaborn as sns\n",
    "\n",
    "\n",
    "import functions as f"
   ]
  },
  {
   "cell_type": "code",
   "execution_count": 2,
   "metadata": {},
   "outputs": [
    {
     "name": "stdout",
     "output_type": "stream",
     "text": [
      "The data used will be:\n"
     ]
    },
    {
     "data": {
      "text/html": [
       "<div>\n",
       "<style scoped>\n",
       "    .dataframe tbody tr th:only-of-type {\n",
       "        vertical-align: middle;\n",
       "    }\n",
       "\n",
       "    .dataframe tbody tr th {\n",
       "        vertical-align: top;\n",
       "    }\n",
       "\n",
       "    .dataframe thead th {\n",
       "        text-align: right;\n",
       "    }\n",
       "</style>\n",
       "<table border=\"1\" class=\"dataframe\">\n",
       "  <thead>\n",
       "    <tr style=\"text-align: right;\">\n",
       "      <th></th>\n",
       "      <th>Joined</th>\n",
       "    </tr>\n",
       "  </thead>\n",
       "  <tbody>\n",
       "    <tr>\n",
       "      <th>0</th>\n",
       "      <td>[M, S, L, K, L, Q, A, S, N, V, T, N, K, N, D, ...</td>\n",
       "    </tr>\n",
       "    <tr>\n",
       "      <th>1</th>\n",
       "      <td>[M, K, D, V, P, G, F, L, Q, Q, S, Q, N, S, G, ...</td>\n",
       "    </tr>\n",
       "    <tr>\n",
       "      <th>2</th>\n",
       "      <td>[M, A, Q, S, R, D, G, G, N, P, F, A, E, P, S, ...</td>\n",
       "    </tr>\n",
       "    <tr>\n",
       "      <th>3</th>\n",
       "      <td>[M, G, V, D, I, R, H, N, K, D, R, K, V, R, R, ...</td>\n",
       "    </tr>\n",
       "    <tr>\n",
       "      <th>4</th>\n",
       "      <td>[M, N, V, A, A, K, Y, R, M, A, S, L, Y, V, G, ...</td>\n",
       "    </tr>\n",
       "    <tr>\n",
       "      <th>...</th>\n",
       "      <td>...</td>\n",
       "    </tr>\n",
       "    <tr>\n",
       "      <th>6995</th>\n",
       "      <td>[M, T, H, E, E, H, H, A, A, K, T, L, G, I, G, ...</td>\n",
       "    </tr>\n",
       "    <tr>\n",
       "      <th>6996</th>\n",
       "      <td>[M, S, A, E, G, Y, Q, Y, R, A, L, Y, D, Y, K, ...</td>\n",
       "    </tr>\n",
       "    <tr>\n",
       "      <th>6997</th>\n",
       "      <td>[M, W, P, T, R, R, L, V, T, I, K, R, S, G, V, ...</td>\n",
       "    </tr>\n",
       "    <tr>\n",
       "      <th>6998</th>\n",
       "      <td>[M, L, R, V, A, W, R, T, L, S, L, I, R, T, R, ...</td>\n",
       "    </tr>\n",
       "    <tr>\n",
       "      <th>6999</th>\n",
       "      <td>[M, T, E, W, E, T, A, A, P, A, V, A, E, T, P, ...</td>\n",
       "    </tr>\n",
       "  </tbody>\n",
       "</table>\n",
       "<p>7000 rows × 1 columns</p>\n",
       "</div>"
      ],
      "text/plain": [
       "                                                 Joined\n",
       "0     [M, S, L, K, L, Q, A, S, N, V, T, N, K, N, D, ...\n",
       "1     [M, K, D, V, P, G, F, L, Q, Q, S, Q, N, S, G, ...\n",
       "2     [M, A, Q, S, R, D, G, G, N, P, F, A, E, P, S, ...\n",
       "3     [M, G, V, D, I, R, H, N, K, D, R, K, V, R, R, ...\n",
       "4     [M, N, V, A, A, K, Y, R, M, A, S, L, Y, V, G, ...\n",
       "...                                                 ...\n",
       "6995  [M, T, H, E, E, H, H, A, A, K, T, L, G, I, G, ...\n",
       "6996  [M, S, A, E, G, Y, Q, Y, R, A, L, Y, D, Y, K, ...\n",
       "6997  [M, W, P, T, R, R, L, V, T, I, K, R, S, G, V, ...\n",
       "6998  [M, L, R, V, A, W, R, T, L, S, L, I, R, T, R, ...\n",
       "6999  [M, T, E, W, E, T, A, A, P, A, V, A, E, T, P, ...\n",
       "\n",
       "[7000 rows x 1 columns]"
      ]
     },
     "execution_count": 2,
     "metadata": {},
     "output_type": "execute_result"
    }
   ],
   "source": [
    "def load_data(D,randomize=False):\n",
    "    try:\n",
    "        with open(\"df_train_\"+str(D)+\"D.pkl\", \"rb\") as fh:\n",
    "          df_train = pickle.load(fh)\n",
    "    except:\n",
    "        df_train = pd.read_pickle(\"hyppi-train-data.pkl\")\n",
    "    try:\n",
    "        with open(\"df_test_\"+str(D)+\"D.pkl\", \"rb\") as fh:\n",
    "          df_test = pickle.load(fh)\n",
    "    except:\n",
    "        df_test = pd.read_pickle(\"hyppi-test-data.pkl\")\n",
    "    if randomize:\n",
    "        return f.shuff_together(df_train,df_test)\n",
    "    else:\n",
    "        return df_train,df_test\n",
    "\n",
    "df_train,df_test = load_data(3)\n",
    "print('The data used will be:')\n",
    "df_train[['Joined']]"
   ]
  },
  {
   "cell_type": "code",
   "execution_count": 3,
   "metadata": {},
   "outputs": [
    {
     "name": "stdout",
     "output_type": "stream",
     "text": [
      "Median length of Joined sequence is 953\n"
     ]
    },
    {
     "data": {
      "image/png": "[encoded data removed]",
      "text/plain": [
       "<Figure size 360x360 with 1 Axes>"
      ]
     },
     "metadata": {
      "needs_background": "light"
     },
     "output_type": "display_data"
    }
   ],
   "source": [
    "rows = df_train['Joined'].shape[0]\n",
    "lengths = sorted(len(s) for s in df_train['Joined'])\n",
    "print(\"Median length of Joined sequence is\",lengths[len(lengths)//2])\n",
    "_  = sns.displot(lengths)\n",
    "_=plt.title(\"Most Joined sequences seem to be less than 2000 in length\")"
   ]
  },
  {
   "cell_type": "code",
   "execution_count": 4,
   "metadata": {},
   "outputs": [
    {
     "name": "stdout",
     "output_type": "stream",
     "text": [
      "MAX_VOCAB_SIZE is 1000\n",
      "MAX_SEQUENCE_LENGTH is 2000\n",
      "max sequence_data length: 8286\n",
      "min sequence_data length: 154\n",
      "median sequence_data length: 953\n"
     ]
    },
    {
     "data": {
      "image/png": "[encoded data removed]",
      "text/plain": [
       "<Figure size 432x288 with 1 Axes>"
      ]
     },
     "metadata": {
      "needs_background": "light"
     },
     "output_type": "display_data"
    },
    {
     "name": "stdout",
     "output_type": "stream",
     "text": [
      "max word index: 22\n",
      "Found 22 unique tokens.\n",
      "pre padding.\n",
      "Shape of data tensor: (7000, 2000)\n",
      "max sequences_test length: 6647\n",
      "min sequences_test length: 165\n",
      "median sequences_test length: 935\n"
     ]
    },
    {
     "data": {
      "image/png": "[encoded data removed]",
      "text/plain": [
       "<Figure size 432x288 with 1 Axes>"
      ]
     },
     "metadata": {
      "needs_background": "light"
     },
     "output_type": "display_data"
    },
    {
     "name": "stdout",
     "output_type": "stream",
     "text": [
      "pre padding for test seq.\n",
      "Shape of data_test tensor: (1899, 2000)\n",
      "num_words is 23\n"
     ]
    }
   ],
   "source": [
    "data_1D_join_pre,data_test_1D_join_pre,num_words_1D_join,MAX_SEQUENCE_LENGTH_1D,MAX_VOCAB_SIZE_1D = f.get_seq_data_join(1000,2000,df_train,df_test, pad='pre', show=True)"
   ]
  },
  {
   "cell_type": "code",
   "execution_count": 5,
   "metadata": {},
   "outputs": [
    {
     "name": "stdout",
     "output_type": "stream",
     "text": [
      "MAX_VOCAB_SIZE is 1000\n",
      "MAX_SEQUENCE_LENGTH is 2000\n",
      "max sequence_data length: 8286\n",
      "min sequence_data length: 154\n",
      "median sequence_data length: 953\n",
      "max word index: 22\n",
      "Found 22 unique tokens.\n",
      "Center padding.\n",
      "Shape of data tensor: (7000, 2000)\n",
      "max sequences_test length: 6647\n",
      "min sequences_test length: 165\n",
      "median sequences_test length: 935\n",
      "Center padding for test seq.\n",
      "Shape of data_test tensor: (1899, 2000)\n",
      "num_words is 23\n"
     ]
    }
   ],
   "source": [
    "data_1D_join_center,data_test_1D_join_center,num_words_1D_join,MAX_SEQUENCE_LENGTH_1D,MAX_VOCAB_SIZE_1D = f.get_seq_data_join(1000,2000,df_train,df_test, pad='center')"
   ]
  },
  {
   "cell_type": "code",
   "execution_count": 6,
   "metadata": {},
   "outputs": [
    {
     "name": "stdout",
     "output_type": "stream",
     "text": [
      "MAX_VOCAB_SIZE is 1000\n",
      "MAX_SEQUENCE_LENGTH is 2000\n",
      "max sequence_data length: 8286\n",
      "min sequence_data length: 154\n",
      "median sequence_data length: 953\n",
      "max word index: 22\n",
      "Found 22 unique tokens.\n",
      "post padding.\n",
      "Shape of data tensor: (7000, 2000)\n",
      "max sequences_test length: 6647\n",
      "min sequences_test length: 165\n",
      "median sequences_test length: 935\n",
      "post padding for test seq.\n",
      "Shape of data_test tensor: (1899, 2000)\n",
      "num_words is 23\n"
     ]
    }
   ],
   "source": [
    "data_1D_join_post,data_test_1D_join_post,num_words_1D_join,MAX_SEQUENCE_LENGTH_1D,MAX_VOCAB_SIZE_1D = f.get_seq_data_join(1000,2000,df_train,df_test, pad='post')"
   ]
  },
  {
   "cell_type": "code",
   "execution_count": null,
   "metadata": {},
   "outputs": [],
   "source": [
    "\n",
    "EMBEDDING_DIM_1D = 5\n",
    "VALIDATION_SPLIT = 0.2\n",
    "BATCH_SIZE = 128\n",
    "EPOCHS = 20\n",
    "M_1D=10\n",
    "\n",
    "\n",
    "x1 = f.BiLSTM_model(MAX_SEQUENCE_LENGTH_1D, EMBEDDING_DIM_1D, num_words_1D_join, M_1D)\n",
    "x2 = f.BiLSTM_model(MAX_SEQUENCE_LENGTH_1D, EMBEDDING_DIM_1D, num_words_1D_join, M_1D)\n",
    "x3 = f.BiLSTM_model(MAX_SEQUENCE_LENGTH_1D, EMBEDDING_DIM_1D, num_words_1D_join, M_1D)\n",
    "\n",
    "concatenator = Concatenate(axis=1)\n",
    "x = concatenator([x1.output, x2.output, x3.output])\n",
    "x = Dense(128)(x)\n",
    "x = Dropout(0.2)(x)\n",
    "output = Dense(1, activation=\"sigmoid\",name=\"Final\")(x)\n",
    "model1D_join = Model(inputs=[x1.input, x2.input, x3.input], outputs=output)\n",
    "\n",
    "model1D_join.compile(loss='binary_crossentropy',optimizer=Adam(lr=0.01),metrics=['accuracy'],)\n",
    "\n",
    "trains = [data_1D_join_pre,data_1D_join_center,data_1D_join_post]\n",
    "tests = [data_test_1D_join_pre,data_test_1D_join_center,data_test_1D_join_post]\n",
    "\n",
    "\n",
    "jk = model1D_join.fit(trains,df_train['label'].values, batch_size=BATCH_SIZE, epochs=EPOCHS, validation_data=(tests,df_test['label'].values))\n",
    "#plot_model(model1D_join, to_file='model_plot.png', show_shapes=True, show_layer_names=False)\n",
    "print(roc_auc_score(df_test['label'].values, model1D_join.predict(tests)))"
   ]
  }
 ],
 "metadata": {
  "kernelspec": {
   "display_name": "Python 3",
   "language": "python",
   "name": "python3"
  },
  "language_info": {
   "codemirror_mode": {
    "name": "ipython",
    "version": 3
   },
   "file_extension": ".py",
   "mimetype": "text/x-python",
   "name": "python",
   "nbconvert_exporter": "python",
   "pygments_lexer": "ipython3",
   "version": "3.8.3"
  }
 },
 "nbformat": 4,
 "nbformat_minor": 4
}
